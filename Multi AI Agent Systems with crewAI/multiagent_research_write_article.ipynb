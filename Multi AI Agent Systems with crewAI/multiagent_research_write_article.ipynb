{
 "cells": [
  {
   "cell_type": "markdown",
   "metadata": {},
   "source": [
    "# Create Agents to Research and Write an Article\n",
    "\n",
    "Introducing to the foundational concepts of multi-agent systems and get an overview of the crewAI framework."
   ]
  },
  {
   "cell_type": "markdown",
   "metadata": {},
   "source": [
    "\n",
    "```Python\n",
    "!pip install crewai==0.28.8 crewai_tools==0.1.6 langchain_community==0.0.29\n",
    "```"
   ]
  },
  {
   "cell_type": "code",
   "metadata": {
    "height": 64,
    "ExecuteTime": {
     "end_time": "2025-01-06T10:26:15.984605Z",
     "start_time": "2025-01-06T10:26:15.980413Z"
    }
   },
   "source": [
    "# Warning control\n",
    "import warnings\n",
    "warnings.filterwarnings('ignore')"
   ],
   "outputs": [],
   "execution_count": 1
  },
  {
   "cell_type": "markdown",
   "metadata": {},
   "source": [
    "- Import from the crewAI libray."
   ]
  },
  {
   "cell_type": "code",
   "metadata": {
    "height": 30,
    "ExecuteTime": {
     "end_time": "2025-01-06T10:26:22.302557Z",
     "start_time": "2025-01-06T10:26:17.956914Z"
    }
   },
   "source": [
    "from crewai import Agent, Task, Crew\n",
    "from langchain_openai import ChatOpenAI  # Updated import statement"
   ],
   "outputs": [],
   "execution_count": 2
  },
  {
   "cell_type": "markdown",
   "metadata": {},
   "source": [
    "- As a LLM agents, I used `ollama llama3.2` .\n",
    "\n",
    "**Optional Note:** crewAI also allow other popular models to be used as a LLM for your Agents. You can see some of the examples at the [bottom of the notebook](#1)."
   ]
  },
  {
   "cell_type": "code",
   "metadata": {
    "height": 98,
    "ExecuteTime": {
     "end_time": "2025-01-06T10:27:08.872027Z",
     "start_time": "2025-01-06T10:27:08.468192Z"
    }
   },
   "source": [
    "import os\n",
    "# Set environment variables for API and LLM base URL\n",
    "os.environ[\"OPENAI_API_KEY\"] = \"\"  # Insert your OpenAI API key here\n",
    "os.environ[\"LLM_BASE_URL\"] = \"http://localhost:11434\"  # Local LLM endpoint\n",
    "os.environ[\"OTEL_SDK_DISABLED\"] = \"true\"\n",
    "\n",
    "# Initialize the language model from OpenAI with the specified base URL and model\n",
    "llm = ChatOpenAI(\n",
    "    model=\"ollama/llama3.2\",  # Example model; replace with your desired Ollama model\n",
    "    base_url=os.environ[\"LLM_BASE_URL\"]\n",
    ")"
   ],
   "outputs": [],
   "execution_count": 3
  },
  {
   "cell_type": "markdown",
   "metadata": {},
   "source": [
    "## Creating Agents\n",
    "\n",
    "- Define your Agents, and provide them a `role`, `goal` and `backstory`.\n",
    "- It has been seen that LLMs perform better when they are role playing."
   ]
  },
  {
   "cell_type": "markdown",
   "metadata": {},
   "source": [
    "### Agent: Planner\n",
    "\n",
    "**Note**: The benefit of using _multiple strings_ :\n",
    "```Python\n",
    "varname = \"line 1 of text\"\n",
    "          \"line 2 of text\"\n",
    "```\n",
    "\n",
    "versus the _triple quote docstring_:\n",
    "```Python\n",
    "varname = \"\"\"line 1 of text\n",
    "             line 2 of text\n",
    "          \"\"\"\n",
    "```\n",
    "is that it can avoid adding those whitespaces and newline characters, making it better formatted to be passed to the LLM."
   ]
  },
  {
   "cell_type": "code",
   "metadata": {
    "height": 234,
    "ExecuteTime": {
     "end_time": "2025-01-05T17:40:35.905115Z",
     "start_time": "2025-01-05T17:40:35.899974Z"
    }
   },
   "source": [
    "planner = Agent(\n",
    "    role=\"Content Planner\",\n",
    "    goal=\"Plan engaging and factually accurate content on {topic}\",\n",
    "    backstory=\"You're working on planning a blog article \"\n",
    "              \"about the topic: {topic} in 'https://medium.com/'.\"\n",
    "              \"You collect information that helps the \"\n",
    "              \"audience learn something \"\n",
    "              \"and make informed decisions. \"\n",
    "              \"You have to prepare a detailed \"\n",
    "              \"outline and the relevant topics and sub-topics that has to be a part of the\"\n",
    "              \"blogpost.\"\n",
    "              \"Your work is the basis for \"\n",
    "              \"the Content Writer to write an article on this topic.\",\n",
    "    llm=llm,\n",
    "    allow_delegation=False,\n",
    " verbose=True\n",
    ")"
   ],
   "outputs": [],
   "execution_count": 4
  },
  {
   "cell_type": "markdown",
   "metadata": {},
   "source": [
    "### Agent: Writer"
   ]
  },
  {
   "cell_type": "code",
   "metadata": {
    "height": 370,
    "ExecuteTime": {
     "end_time": "2025-01-05T17:40:37.068352Z",
     "start_time": "2025-01-05T17:40:37.060565Z"
    }
   },
   "source": [
    "writer = Agent(\n",
    "    role=\"Content Writer\",\n",
    "    goal=\"Write insightful and factually accurate \"\n",
    "         \"opinion piece about the topic: {topic}\",\n",
    "    backstory=\"You're working on a writing \"\n",
    "              \"a new opinion piece about the topic: {topic} in 'https://medium.com/'. \"\n",
    "              \"You base your writing on the work of \"\n",
    "              \"the Content Planner, who provides an outline \"\n",
    "              \"and relevant context about the topic. \"\n",
    "              \"You follow the main objectives and \"\n",
    "              \"direction of the outline, \"\n",
    "              \"as provide by the Content Planner. \"\n",
    "              \"You also provide objective and impartial insights \"\n",
    "              \"and back them up with information \"\n",
    "              \"provide by the Content Planner. \"\n",
    "              \"You acknowledge in your opinion piece \"\n",
    "              \"when your statements are opinions \"\n",
    "              \"as opposed to objective statements.\",\n",
    "    allow_delegation=False,\n",
    "    llm=llm,\n",
    "    verbose=True\n",
    ")"
   ],
   "outputs": [],
   "execution_count": 5
  },
  {
   "cell_type": "markdown",
   "metadata": {},
   "source": [
    "### Agent: Editor"
   ]
  },
  {
   "cell_type": "code",
   "metadata": {
    "height": 268,
    "ExecuteTime": {
     "end_time": "2025-01-05T17:40:38.216875Z",
     "start_time": "2025-01-05T17:40:38.199828Z"
    }
   },
   "source": [
    "editor = Agent(\n",
    "    role=\"Editor\",\n",
    "    goal=\"Edit a given blog post to align with \"\n",
    "         \"the writing style of the organization 'https://medium.com/'. \",\n",
    "    backstory=\"You are an editor who receives a blog post \"\n",
    "              \"from the Content Writer. \"\n",
    "              \"Your goal is to review the blog post \"\n",
    "              \"to ensure that it follows journalistic best practices,\"\n",
    "              \"provides balanced viewpoints \"\n",
    "              \"when providing opinions or assertions, \"\n",
    "              \"and also avoids major controversial topics \"\n",
    "              \"or opinions when possible.\",\n",
    "    llm=llm,\n",
    "    allow_delegation=False,\n",
    "    verbose=True\n",
    ")"
   ],
   "outputs": [],
   "execution_count": 6
  },
  {
   "cell_type": "markdown",
   "metadata": {},
   "source": [
    "## Creating Tasks\n",
    "\n",
    "- Define your Tasks, and provide them a `description`, `expected_output` and `agent`."
   ]
  },
  {
   "cell_type": "markdown",
   "metadata": {},
   "source": [
    "### Task: Plan"
   ]
  },
  {
   "cell_type": "code",
   "metadata": {
    "height": 268,
    "ExecuteTime": {
     "end_time": "2025-01-05T17:40:39.465786Z",
     "start_time": "2025-01-05T17:40:39.462934Z"
    }
   },
   "source": [
    "plan = Task(\n",
    "    description=(\n",
    "        \"1. Prioritize the latest trends, key players, \"\n",
    "            \"and noteworthy news on {topic}.\\n\"\n",
    "        \"2. Identify the target audience, considering \"\n",
    "            \"their interests and pain points.\\n\"\n",
    "        \"3. Develop a detailed content outline including \"\n",
    "            \"an introduction, key points, and a call to action.\\n\"\n",
    "        \"4. Include SEO keywords and relevant data or sources.\"\n",
    "    ),\n",
    "    expected_output=\"Very short content plan document \"\n",
    "        \"with a short outline, audience analysis, \"\n",
    "        \"a few SEO keywords, and resources.\",\n",
    "    agent=planner,\n",
    ")"
   ],
   "outputs": [],
   "execution_count": 7
  },
  {
   "cell_type": "markdown",
   "metadata": {},
   "source": [
    "### Task: Write"
   ]
  },
  {
   "cell_type": "code",
   "metadata": {
    "height": 319,
    "ExecuteTime": {
     "end_time": "2025-01-05T17:40:40.580402Z",
     "start_time": "2025-01-05T17:40:40.564259Z"
    }
   },
   "source": [
    "write = Task(\n",
    "    description=(\n",
    "        \"1. Use the content plan to craft a compelling \"\n",
    "            \"blog post on {topic}.\\n\"\n",
    "        \"2. Incorporate SEO keywords naturally.\\n\"\n",
    "  \"3. Sections/Subtitles are properly named \"\n",
    "            \"in an engaging manner.\\n\"\n",
    "        \"4. Ensure the post is structured with an \"\n",
    "            \"engaging introduction, insightful body, \"\n",
    "            \"and a summarizing conclusion.\\n\"\n",
    "        \"5. Proofread for grammatical errors and \"\n",
    "            \"alignment with the brand's voice.\\n\"\n",
    "    ),\n",
    "    expected_output=\"A well-written blog post \"\n",
    "        \"in markdown format, ready for publication, \"\n",
    "        \"each section should have 2 or 3 paragraphs.\",\n",
    "    agent=writer,\n",
    ")"
   ],
   "outputs": [],
   "execution_count": 8
  },
  {
   "cell_type": "markdown",
   "metadata": {},
   "source": [
    "### Task: Edit"
   ]
  },
  {
   "cell_type": "code",
   "metadata": {
    "height": 166,
    "ExecuteTime": {
     "end_time": "2025-01-05T17:40:41.421504Z",
     "start_time": "2025-01-05T17:40:41.411234Z"
    }
   },
   "source": [
    "edit = Task(\n",
    "    description=(\"Proofread the given blog post for \"\n",
    "                 \"grammatical errors and \"\n",
    "                 \"alignment with the brand's voice.\"),\n",
    "    expected_output=\"A well-written blog post in markdown format, \"\n",
    "                    \"ready for publication, \"\n",
    "                    \"each section should have 2 or 3 paragraphs.\",\n",
    "    agent=editor\n",
    ")"
   ],
   "outputs": [],
   "execution_count": 9
  },
  {
   "cell_type": "markdown",
   "metadata": {},
   "source": [
    "## Creating the Crew\n",
    "\n",
    "- Create your crew of Agents\n",
    "- Pass the tasks to be performed by those agents.\n",
    "    - **Note**: *For this simple example*, the tasks will be performed sequentially (i.e they are dependent on each other), so the _order_ of the task in the list _matters_.\n",
    "- `verbose=2` allows you to see all the logs of the execution. "
   ]
  },
  {
   "cell_type": "code",
   "metadata": {
    "height": 98,
    "ExecuteTime": {
     "end_time": "2025-01-05T17:40:42.338730Z",
     "start_time": "2025-01-05T17:40:42.331214Z"
    }
   },
   "source": [
    "crew = Crew(\n",
    "    agents=[planner, writer, editor],\n",
    "    tasks=[plan, write, edit],\n",
    "    verbose=True\n",
    ")"
   ],
   "outputs": [],
   "execution_count": 10
  },
  {
   "cell_type": "markdown",
   "metadata": {},
   "source": [
    "## Running the Crew"
   ]
  },
  {
   "cell_type": "markdown",
   "metadata": {},
   "source": []
  },
  {
   "cell_type": "code",
   "metadata": {
    "height": 30,
    "ExecuteTime": {
     "end_time": "2025-01-05T17:41:52.541588Z",
     "start_time": "2025-01-05T17:40:44.158828Z"
    }
   },
   "source": [
    "inputs = {\"topic\":\"Comparative study of LangGraph, Autogen and Crewai for building multi-agent system.\"}\n",
    "result = crew.kickoff(inputs=inputs)"
   ],
   "outputs": [
    {
     "name": "stdout",
     "output_type": "stream",
     "text": [
      "\u001B[1m\u001B[95m# Agent:\u001B[00m \u001B[1m\u001B[92mContent Planner\u001B[00m\n",
      "\u001B[95m## Task:\u001B[00m \u001B[92m1. Prioritize the latest trends, key players, and noteworthy news on Comparative study of LangGraph, Autogen and Crewai for building multi-agent system..\n",
      "2. Identify the target audience, considering their interests and pain points.\n",
      "3. Develop a detailed content outline including an introduction, key points, and a call to action.\n",
      "4. Include SEO keywords and relevant data or sources.\u001B[00m\n",
      "\n",
      "\n",
      "\u001B[1m\u001B[95m# Agent:\u001B[00m \u001B[1m\u001B[92mContent Planner\u001B[00m\n",
      "\u001B[95m## Final Answer:\u001B[00m \u001B[92m\n",
      "**Comparative Study of LangGraph, Autogen, and Crewai for Building Multi-Agent Systems**\n",
      "\n",
      "**Introduction:**\n",
      "The increasing demand for intelligent systems that can interact with each other has led to the development of multi-agent systems. In this article, we will compare LangGraph, Autogen, and Crewai, three popular platforms used for building multi-agent systems.\n",
      "\n",
      "**Audience Analysis:**\n",
      "Our target audience consists of:\n",
      "\n",
      "* Developers interested in building multi-agent systems\n",
      "* Researchers studying multi-agent systems\n",
      "* Individuals looking to adopt AI-based solutions\n",
      "\n",
      "**Key Points:**\n",
      "\n",
      "1. **Overview of LangGraph**\n",
      "\t* LangGraph is an open-source framework for building multi-agent systems\n",
      "\t* It provides a simple and intuitive API for creating agents and interactions between them\n",
      "\t* LangGraph is highly customizable and can be used with various programming languages\n",
      "2. **Overview of Autogen**\n",
      "\t* Autogen is a cloud-based platform for building multi-agent systems\n",
      "\t* It provides a visual interface for designing agents and their interactions, making it easy to use for non-technical users\n",
      "\t* Autogen offers a range of pre-built templates and plugins for common use cases\n",
      "3. **Overview of Crewai**\n",
      "\t* Crewai is an AI-powered platform for building multi-agent systems\n",
      "\t* It provides a set of pre-trained models and algorithms for creating agents that can learn and adapt to new situations\n",
      "\t* Crewai offers real-time monitoring and analytics for optimizing agent performance\n",
      "\n",
      "**Comparison of LangGraph, Autogen, and Crewai:**\n",
      "\n",
      "| Feature | LangGraph | Autogen | Crewai |\n",
      "| --- | --- | --- | --- |\n",
      "| Open-source | Yes | No | No |\n",
      "| Customizability | High | Medium | Low |\n",
      "| Ease of use | Advanced | Beginner-friendly | Intermediate |\n",
      "\n",
      "**Conclusion:**\n",
      "In conclusion, each platform has its strengths and weaknesses. LangGraph offers high customizability but requires advanced programming skills. Autogen provides a visual interface for easy use but is limited in terms of customization. Crewai provides pre-trained models and algorithms but relies on AI power, which can be unpredictable.\n",
      "\n",
      "**Call to Action:**\n",
      "For developers interested in building multi-agent systems, we recommend starting with LangGraph or Autogen based on their specific needs and skill level. For researchers looking for a plug-and-play solution, Crewai might be the best option.\n",
      "\n",
      "**Resources:**\n",
      "\n",
      "* LangGraph: https://langgraph.org/\n",
      "* Autogen: https://autogen.ai/\n",
      "* Crewai: https://crew.ai/\n",
      "\n",
      "**SEO Keywords:** multi-agent systems, LangGraph, Autogen, Crewai, AI-powered platforms, cloud-based solutions.\u001B[00m\n",
      "\n",
      "\n",
      "\u001B[1m\u001B[95m# Agent:\u001B[00m \u001B[1m\u001B[92mContent Writer\u001B[00m\n",
      "\u001B[95m## Task:\u001B[00m \u001B[92m1. Use the content plan to craft a compelling blog post on Comparative study of LangGraph, Autogen and Crewai for building multi-agent system..\n",
      "2. Incorporate SEO keywords naturally.\n",
      "3. Sections/Subtitles are properly named in an engaging manner.\n",
      "4. Ensure the post is structured with an engaging introduction, insightful body, and a summarizing conclusion.\n",
      "5. Proofread for grammatical errors and alignment with the brand's voice.\n",
      "\u001B[00m\n",
      "\n",
      "\n",
      "\u001B[1m\u001B[95m# Agent:\u001B[00m \u001B[1m\u001B[92mContent Writer\u001B[00m\n",
      "\u001B[95m## Final Answer:\u001B[00m \u001B[92m\n",
      "**Comparative Study of LangGraph, Autogen, and Crewai for Building Multi-Agent Systems**\n",
      "=============================================================\n",
      "\n",
      "### Introduction\n",
      "--------\n",
      "\n",
      "The increasing demand for intelligent systems that can interact with each other has led to the development of multi-agent systems. In this article, we will compare LangGraph, Autogen, and Crewai, three popular platforms used for building multi-agent systems.\n",
      "\n",
      "### Audience Analysis\n",
      "-------------------\n",
      "\n",
      "Our target audience consists of:\n",
      "\n",
      "* Developers interested in building multi-agent systems\n",
      "* Researchers studying multi-agent systems\n",
      "* Individuals looking to adopt AI-based solutions\n",
      "\n",
      "### Key Points\n",
      "-------------\n",
      "\n",
      "#### Overview of LangGraph\n",
      "\n",
      "LangGraph is an open-source framework for building multi-agent systems. It provides a simple and intuitive API for creating agents and interactions between them. LangGraph is highly customizable and can be used with various programming languages.\n",
      "\n",
      "One of the strengths of LangGraph is its flexibility, allowing developers to create complex systems from scratch. However, this also means that it requires advanced programming skills, which may be a barrier for some users.\n",
      "\n",
      "#### Overview of Autogen\n",
      "\n",
      "Autogen is a cloud-based platform for building multi-agent systems. It provides a visual interface for designing agents and their interactions, making it easy to use for non-technical users. Autogen offers a range of pre-built templates and plugins for common use cases.\n",
      "\n",
      "The ease of use offered by Autogen makes it an attractive option for researchers or developers who want to build a multi-agent system quickly. However, its customizability is limited compared to LangGraph.\n",
      "\n",
      "#### Overview of Crewai\n",
      "\n",
      "Crewai is an AI-powered platform for building multi-agent systems. It provides a set of pre-trained models and algorithms for creating agents that can learn and adapt to new situations. Crewai offers real-time monitoring and analytics for optimizing agent performance.\n",
      "\n",
      "The use of pre-trained models in Crewai makes it an attractive option for researchers who want to build complex AI-powered systems quickly. However, its reliance on AI power means that it may not be suitable for all applications.\n",
      "\n",
      "### Comparison of LangGraph, Autogen, and Crewai\n",
      "---------------------------------------------\n",
      "\n",
      "| Feature | LangGraph | Autogen | Crewai |\n",
      "| --- | --- | --- | --- |\n",
      "| Open-source | Yes | No | No |\n",
      "| Customizability | High | Medium | Low |\n",
      "| Ease of use | Advanced | Beginner-friendly | Intermediate |\n",
      "\n",
      "#### Comparison Points\n",
      "\n",
      "* **Customizability**: LangGraph offers high customizability, making it suitable for complex systems. Autogen provides medium customizability, while Crewai offers low customizability due to its reliance on pre-trained models.\n",
      "* **Ease of use**: Autogen provides a beginner-friendly interface, making it easy to use for non-technical users. LangGraph requires advanced programming skills, while Crewai falls in between.\n",
      "\n",
      "### Conclusion\n",
      "----------\n",
      "\n",
      "In conclusion, each platform has its strengths and weaknesses. LangGraph offers high customizability but requires advanced programming skills. Autogen provides a visual interface for easy use but is limited in terms of customization. Crewai provides pre-trained models and algorithms but relies on AI power, which can be unpredictable.\n",
      "\n",
      "For developers interested in building multi-agent systems, we recommend starting with LangGraph or Autogen based on their specific needs and skill level. For researchers looking for a plug-and-play solution, Crewai might be the best option.\n",
      "\n",
      "### Call to Action\n",
      "-----------------\n",
      "\n",
      "* For developers: Start with LangGraph or Autogen based on your skills and project requirements.\n",
      "* For researchers: Consider using Crewai for its pre-trained models and algorithms.\n",
      "\n",
      "### Resources\n",
      "------------\n",
      "\n",
      "* LangGraph: <https://langgraph.org/>\n",
      "* Autogen: <https://autogen.ai/>\n",
      "* Crewai: <https://crew.ai/>\n",
      "\n",
      "### SEO Keywords\n",
      "\n",
      "* Multi-agent systems\n",
      "* LangGraph\n",
      "* Autogen\n",
      "* Crewai\n",
      "* AI-powered platforms\n",
      "* Cloud-based solutions\u001B[00m\n",
      "\n",
      "\n",
      "\u001B[1m\u001B[95m# Agent:\u001B[00m \u001B[1m\u001B[92mEditor\u001B[00m\n",
      "\u001B[95m## Task:\u001B[00m \u001B[92mProofread the given blog post for grammatical errors and alignment with the brand's voice.\u001B[00m\n",
      "\n",
      "\n",
      "\u001B[1m\u001B[95m# Agent:\u001B[00m \u001B[1m\u001B[92mEditor\u001B[00m\n",
      "\u001B[95m## Final Answer:\u001B[00m \u001B[92m\n",
      "Comparative Study of LangGraph, Autogen, and Crewai for Building Multi-Agent Systems\n",
      "=====================================================================================\n",
      "\n",
      "### Introduction\n",
      "\n",
      "The increasing demand for intelligent systems that can interact with each other has led to the development of multi-agent systems. In this article, we will compare LangGraph, Autogen, and Crewai, three popular platforms used for building multi-agent systems.\n",
      "\n",
      "As the field of artificial intelligence (AI) continues to evolve, multi-agent systems are becoming increasingly important in various industries such as robotics, finance, and healthcare. However, building complex multi-agent systems can be a daunting task, requiring expertise in multiple areas including AI, computer science, and engineering.\n",
      "\n",
      "In this article, we will delve into the world of LangGraph, Autogen, and Crewai, three platforms that are revolutionizing the way we build multi-agent systems. From their strengths and weaknesses to their use cases and applications, we will explore what each platform has to offer and how they can help you achieve your goals.\n",
      "\n",
      "### Audience Analysis\n",
      "\n",
      "Our target audience consists of:\n",
      "\n",
      "* Developers interested in building multi-agent systems\n",
      "* Researchers studying multi-agent systems\n",
      "* Individuals looking to adopt AI-based solutions\n",
      "\n",
      "Whether you are a seasoned developer or a researcher looking for a new tool, this article is designed to provide you with the information and insights you need to make informed decisions about which platform to use.\n",
      "\n",
      "### Key Points\n",
      "\n",
      "#### Overview of LangGraph\n",
      "\n",
      "LangGraph is an open-source framework for building multi-agent systems. It provides a simple and intuitive API for creating agents and interactions between them. LangGraph is highly customizable and can be used with various programming languages.\n",
      "\n",
      "One of the strengths of LangGraph is its flexibility, allowing developers to create complex systems from scratch. However, this also means that it requires advanced programming skills, which may be a barrier for some users.\n",
      "\n",
      "#### Overview of Autogen\n",
      "\n",
      "Autogen is a cloud-based platform for building multi-agent systems. It provides a visual interface for designing agents and their interactions, making it easy to use for non-technical users. Autogen offers a range of pre-built templates and plugins for common use cases.\n",
      "\n",
      "The ease of use offered by Autogen makes it an attractive option for researchers or developers who want to build a multi-agent system quickly. However, its customizability is limited compared to LangGraph.\n",
      "\n",
      "#### Overview of Crewai\n",
      "\n",
      "Crewai is an AI-powered platform for building multi-agent systems. It provides a set of pre-trained models and algorithms for creating agents that can learn and adapt to new situations. Crewai offers real-time monitoring and analytics for optimizing agent performance.\n",
      "\n",
      "The use of pre-trained models in Crewai makes it an attractive option for researchers who want to build complex AI-powered systems quickly. However, its reliance on AI power means that it may not be suitable for all applications.\n",
      "\n",
      "### Comparison of LangGraph, Autogen, and Crewai\n",
      "\n",
      "| Feature | LangGraph | Autogen | Crewai |\n",
      "| --- | --- | --- | --- |\n",
      "| Open-source | Yes | No | No |\n",
      "| Customizability | High | Medium | Low |\n",
      "| Ease of use | Advanced | Beginner-friendly | Intermediate |\n",
      "\n",
      "#### Comparison Points\n",
      "\n",
      "* **Customizability**: LangGraph offers high customizability, making it suitable for complex systems. Autogen provides medium customizability, while Crewai offers low customizability due to its reliance on pre-trained models.\n",
      "* **Ease of use**: Autogen provides a beginner-friendly interface, making it easy to use for non-technical users. LangGraph requires advanced programming skills, while Crewai falls in between.\n",
      "\n",
      "### Conclusion\n",
      "\n",
      "In conclusion, each platform has its strengths and weaknesses. LangGraph offers high customizability but requires advanced programming skills. Autogen provides a visual interface for easy use but is limited in terms of customization. Crewai provides pre-trained models and algorithms but relies on AI power, which can be unpredictable.\n",
      "\n",
      "For developers interested in building multi-agent systems, we recommend starting with LangGraph or Autogen based on their specific needs and skill level. For researchers looking for a plug-and-play solution, Crewai might be the best option.\n",
      "\n",
      "### Call to Action\n",
      "\n",
      "* For developers: Start with LangGraph or Autogen based on your skills and project requirements.\n",
      "* For researchers: Consider using Crewai for its pre-trained models and algorithms.\n",
      "\n",
      "### Resources\n",
      "\n",
      "* LangGraph: <https://langgraph.org/>\n",
      "* Autogen: <https://autogen.ai/>\n",
      "* Crewai: <https://crew.ai/>\n",
      "\n",
      "### SEO Keywords\n",
      "\n",
      "* Multi-agent systems\n",
      "* LangGraph\n",
      "* Autogen\n",
      "* Crewai\n",
      "* AI-powered platforms\n",
      "* Cloud-based solutions\u001B[00m\n"
     ]
    }
   ],
   "execution_count": 11
  },
  {
   "cell_type": "markdown",
   "metadata": {},
   "source": [
    "- Display the results of your execution as markdown in the notebook."
   ]
  },
  {
   "cell_type": "code",
   "metadata": {
    "height": 47,
    "ExecuteTime": {
     "end_time": "2025-01-05T17:41:52.568627Z",
     "start_time": "2025-01-05T17:41:52.563980Z"
    }
   },
   "source": [
    "from IPython.display import Markdown\n",
    "Markdown(result.raw)"
   ],
   "outputs": [
    {
     "data": {
      "text/plain": [
       "<IPython.core.display.Markdown object>"
      ],
      "text/markdown": "Comparative Study of LangGraph, Autogen, and Crewai for Building Multi-Agent Systems\n=====================================================================================\n\n### Introduction\n\nThe increasing demand for intelligent systems that can interact with each other has led to the development of multi-agent systems. In this article, we will compare LangGraph, Autogen, and Crewai, three popular platforms used for building multi-agent systems.\n\nAs the field of artificial intelligence (AI) continues to evolve, multi-agent systems are becoming increasingly important in various industries such as robotics, finance, and healthcare. However, building complex multi-agent systems can be a daunting task, requiring expertise in multiple areas including AI, computer science, and engineering.\n\nIn this article, we will delve into the world of LangGraph, Autogen, and Crewai, three platforms that are revolutionizing the way we build multi-agent systems. From their strengths and weaknesses to their use cases and applications, we will explore what each platform has to offer and how they can help you achieve your goals.\n\n### Audience Analysis\n\nOur target audience consists of:\n\n* Developers interested in building multi-agent systems\n* Researchers studying multi-agent systems\n* Individuals looking to adopt AI-based solutions\n\nWhether you are a seasoned developer or a researcher looking for a new tool, this article is designed to provide you with the information and insights you need to make informed decisions about which platform to use.\n\n### Key Points\n\n#### Overview of LangGraph\n\nLangGraph is an open-source framework for building multi-agent systems. It provides a simple and intuitive API for creating agents and interactions between them. LangGraph is highly customizable and can be used with various programming languages.\n\nOne of the strengths of LangGraph is its flexibility, allowing developers to create complex systems from scratch. However, this also means that it requires advanced programming skills, which may be a barrier for some users.\n\n#### Overview of Autogen\n\nAutogen is a cloud-based platform for building multi-agent systems. It provides a visual interface for designing agents and their interactions, making it easy to use for non-technical users. Autogen offers a range of pre-built templates and plugins for common use cases.\n\nThe ease of use offered by Autogen makes it an attractive option for researchers or developers who want to build a multi-agent system quickly. However, its customizability is limited compared to LangGraph.\n\n#### Overview of Crewai\n\nCrewai is an AI-powered platform for building multi-agent systems. It provides a set of pre-trained models and algorithms for creating agents that can learn and adapt to new situations. Crewai offers real-time monitoring and analytics for optimizing agent performance.\n\nThe use of pre-trained models in Crewai makes it an attractive option for researchers who want to build complex AI-powered systems quickly. However, its reliance on AI power means that it may not be suitable for all applications.\n\n### Comparison of LangGraph, Autogen, and Crewai\n\n| Feature | LangGraph | Autogen | Crewai |\n| --- | --- | --- | --- |\n| Open-source | Yes | No | No |\n| Customizability | High | Medium | Low |\n| Ease of use | Advanced | Beginner-friendly | Intermediate |\n\n#### Comparison Points\n\n* **Customizability**: LangGraph offers high customizability, making it suitable for complex systems. Autogen provides medium customizability, while Crewai offers low customizability due to its reliance on pre-trained models.\n* **Ease of use**: Autogen provides a beginner-friendly interface, making it easy to use for non-technical users. LangGraph requires advanced programming skills, while Crewai falls in between.\n\n### Conclusion\n\nIn conclusion, each platform has its strengths and weaknesses. LangGraph offers high customizability but requires advanced programming skills. Autogen provides a visual interface for easy use but is limited in terms of customization. Crewai provides pre-trained models and algorithms but relies on AI power, which can be unpredictable.\n\nFor developers interested in building multi-agent systems, we recommend starting with LangGraph or Autogen based on their specific needs and skill level. For researchers looking for a plug-and-play solution, Crewai might be the best option.\n\n### Call to Action\n\n* For developers: Start with LangGraph or Autogen based on your skills and project requirements.\n* For researchers: Consider using Crewai for its pre-trained models and algorithms.\n\n### Resources\n\n* LangGraph: <https://langgraph.org/>\n* Autogen: <https://autogen.ai/>\n* Crewai: <https://crew.ai/>\n\n### SEO Keywords\n\n* Multi-agent systems\n* LangGraph\n* Autogen\n* Crewai\n* AI-powered platforms\n* Cloud-based solutions"
     },
     "execution_count": 12,
     "metadata": {},
     "output_type": "execute_result"
    }
   ],
   "execution_count": 12
  }
 ],
 "metadata": {
  "colab": {
   "gpuType": "T4",
   "provenance": []
  },
  "kernelspec": {
   "display_name": "Python 3 (ipykernel)",
   "language": "python",
   "name": "python3"
  },
  "language_info": {
   "codemirror_mode": {
    "name": "ipython",
    "version": 3
   },
   "file_extension": ".py",
   "mimetype": "text/x-python",
   "name": "python",
   "nbconvert_exporter": "python",
   "pygments_lexer": "ipython3",
   "version": "3.11.9"
  }
 },
 "nbformat": 4,
 "nbformat_minor": 4
}
