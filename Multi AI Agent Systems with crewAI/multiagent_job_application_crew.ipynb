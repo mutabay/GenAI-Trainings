{
 "cells": [
  {
   "cell_type": "markdown",
   "metadata": {},
   "source": [
    "# Build a Crew to Tailor Job Applications\n",
    "\n",
    "Built your first multi-agent system."
   ]
  },
  {
   "cell_type": "markdown",
   "metadata": {},
   "source": [
    "The libraries are already installed in the classroom. If you're running this notebook on your own machine, you can install the following:\n",
    "```Python\n",
    "!pip install crewai==0.28.8 crewai_tools==0.1.6 langchain_community==0.0.29\n",
    "```"
   ]
  },
  {
   "cell_type": "code",
   "metadata": {
    "height": 64,
    "ExecuteTime": {
     "end_time": "2025-01-06T17:43:17.848918Z",
     "start_time": "2025-01-06T17:43:17.846018Z"
    }
   },
   "source": [
    "# Warning control\n",
    "import warnings\n",
    "# Removed warnings filter\n",
    "# Configure logging to use default settings\n",
    "import logging\n",
    "logging.basicConfig(level=logging.WARNING)"
   ],
   "outputs": [],
   "execution_count": 20
  },
  {
   "cell_type": "markdown",
   "metadata": {},
   "source": [
    "- Import libraries, APIs and LLM"
   ]
  },
  {
   "cell_type": "code",
   "metadata": {
    "height": 132,
    "ExecuteTime": {
     "end_time": "2025-01-06T18:44:20.756829Z",
     "start_time": "2025-01-06T18:44:20.292980Z"
    }
   },
   "source": [
    "import os\n",
    "from crewai import Agent, Task, Crew\n",
    "from langchain_openai import ChatOpenAI\n",
    "from chromadb import Client\n",
    "from chromadb.config import Settings\n",
    "import google.generativeai as genai\n",
    "from langchain_google_genai import ChatGoogleGenerativeAI\n",
    "\n",
    "\n",
    "os.environ[\"OPENAI_API_KEY\"] = \"\"  # Insert your OpenAI API key here/empty if you are using local\n",
    "os.environ[\"LLM_BASE_URL\"] = \"http://localhost:11434\"  # Local LLM endpoint\n",
    "os.environ[\"OTEL_SDK_DISABLED\"] = \"true\"\n",
    "# Configure Google Gemini API\n",
    "\n",
    "os.environ[\"GOOGLE_API_KEY\"] = \"KEY\"\n",
    "os.environ[\"GEMINI_API_KEY\"] = \"KEY\"\n",
    "\n",
    "llm = ChatOpenAI(\n",
    "    model=\"ollama/falcon\",\n",
    "    base_url=os.environ[\"LLM_BASE_URL\"]\n",
    ")\n",
    "\n",
    "# # Load the google gemini api key\n",
    "# google_api_key = os.getenv(\"GOOGLE_API_KEY\")\n",
    "# genai.configure(api_key=google_api_key)\n",
    "#\n",
    "# # Set gemini pro as llm\n",
    "# llm = ChatGoogleGenerativeAI(\n",
    "#         model=\"gemini-pro\", verbose=True, temperature=0.5, google_api_key=google_api_key\n",
    "# )\n",
    "\n",
    "resume_file_path = 'resume.md'"
   ],
   "outputs": [],
   "execution_count": 28
  },
  {
   "metadata": {
    "ExecuteTime": {
     "end_time": "2025-01-06T18:44:37.581589Z",
     "start_time": "2025-01-06T18:44:37.575688Z"
    }
   },
   "cell_type": "code",
   "source": [
    "try:\n",
    "    with open(resume_file_path, 'r', encoding='utf-8') as f:\n",
    "        resume_content = f.read()\n",
    "        print(\"Resume file loaded successfully!\")\n",
    "except FileNotFoundError:\n",
    "    raise Exception(f\"File not found: {resume_file_path}\")"
   ],
   "outputs": [
    {
     "name": "stdout",
     "output_type": "stream",
     "text": [
      "Resume file loaded successfully!\n"
     ]
    }
   ],
   "execution_count": 30
  },
  {
   "cell_type": "markdown",
   "metadata": {},
   "source": [
    "## crewAI Tools"
   ]
  },
  {
   "cell_type": "code",
   "metadata": {
    "height": 217,
    "ExecuteTime": {
     "end_time": "2025-01-06T18:44:43.413922Z",
     "start_time": "2025-01-06T18:44:41.628829Z"
    }
   },
   "source": [
    "from crewai_tools import (\n",
    "  FileReadTool,\n",
    "  ScrapeWebsiteTool,\n",
    "  MDXSearchTool,\n",
    "  SerperDevTool\n",
    ")\n",
    "\n",
    "search_tool = SerperDevTool()\n",
    "scrape_tool = ScrapeWebsiteTool()\n",
    "read_resume = FileReadTool(file_path=resume_file_path)\n",
    "semantic_search_resume = MDXSearchTool( mdx=resume_file_path,\n",
    "    config=dict(\n",
    "        llm=dict(\n",
    "            provider=\"ollama\", # Options include google, openai, anthropic, llama2, etc.\n",
    "            config=dict(\n",
    "                model=\"falcon\",\n",
    "                # Optional parameters can be included here.\n",
    "                # temperature=0.5,\n",
    "                # top_p=1,\n",
    "                # stream=true,\n",
    "            ),\n",
    "        ),\n",
    "        embedder=dict(\n",
    "            provider=\"google\", # or openai, ollama, ...\n",
    "            config=dict(\n",
    "                model=\"models/embedding-001\",\n",
    "                task_type=\"retrieval_document\",\n",
    "                # Optional title for the embeddings can be added here.\n",
    "                # title=\"Embeddings\",\n",
    "            ),\n",
    "        ),\n",
    "    )\n",
    ")\n"
   ],
   "outputs": [],
   "execution_count": 31
  },
  {
   "cell_type": "markdown",
   "metadata": {},
   "source": [
    "## Creating Agents"
   ]
  },
  {
   "cell_type": "code",
   "metadata": {
    "height": 319,
    "ExecuteTime": {
     "end_time": "2025-01-06T18:45:19.239012Z",
     "start_time": "2025-01-06T18:45:19.228987Z"
    }
   },
   "source": [
    "# Agent 1: Researcher\n",
    "researcher = Agent(\n",
    "    role=\"Tech Job Researcher\",\n",
    "    goal=\"Make sure to do amazing analysis on \"\n",
    "         \"job posting to help job applicants\",\n",
    "    tools = [scrape_tool, search_tool],\n",
    "    verbose=True,\n",
    "    backstory=(\n",
    "        \"As a Job Researcher, your prowess in \"\n",
    "        \"navigating and extractin critical \"\n",
    "        \"information from job postings is unmatched.\"\n",
    "        \"Your skills help pinpoint the necessary \"\n",
    "        \"qualifications and skills sought \"\n",
    "        \"by employers, forming the foundation for \"\n",
    "        \"effective application tailoring.\"\n",
    "    ),\n",
    "    llm=llm\n",
    ")"
   ],
   "outputs": [],
   "execution_count": 32
  },
  {
   "cell_type": "code",
   "metadata": {
    "height": 302,
    "ExecuteTime": {
     "end_time": "2025-01-06T18:45:20.058570Z",
     "start_time": "2025-01-06T18:45:20.047927Z"
    }
   },
   "source": [
    "# Agent 2: Profiler\n",
    "profiler = Agent(\n",
    "    role=\"Personal Profiler for Engineers\",\n",
    "    goal=\"Do increditble research on job applicants \"\n",
    "         \"to help them stand out in the job market\",\n",
    "    tools = [scrape_tool, search_tool,\n",
    "             read_resume, semantic_search_resume],\n",
    "    verbose=True,\n",
    "    backstory=(\n",
    "        \"Equipped with analytical prowess, you dissect \"\n",
    "        \"and synthesize information \"\n",
    "        \"from diverse sources to craft comprehensive \"\n",
    "        \"personal and professional profiles, laying the \"\n",
    "        \"groundwork for personalized resume enhancements.\"\n",
    "    ),\n",
    "    llm=llm\n",
    ")"
   ],
   "outputs": [],
   "execution_count": 33
  },
  {
   "cell_type": "code",
   "metadata": {
    "height": 285,
    "ExecuteTime": {
     "end_time": "2025-01-06T18:45:21.097479Z",
     "start_time": "2025-01-06T18:45:21.086063Z"
    }
   },
   "source": [
    "# Agent 3: Resume Strategist\n",
    "resume_strategist = Agent(\n",
    "    role=\"Resume Strategist for Engineers\",\n",
    "    goal=\"Find all the best ways to make a \"\n",
    "         \"resume stand out in the job market.\",\n",
    "    tools = [scrape_tool, search_tool,\n",
    "             read_resume, semantic_search_resume],\n",
    "    verbose=True,\n",
    "    backstory=(\n",
    "        \"With a strategic mind and an eye for detail, you \"\n",
    "        \"excel at refining resumes to highlight the most \"\n",
    "        \"relevant skills and experiences, ensuring they \"\n",
    "        \"resonate perfectly with the job's requirements.\"\n",
    "    ),\n",
    "    llm=llm\n",
    ")"
   ],
   "outputs": [],
   "execution_count": 34
  },
  {
   "cell_type": "code",
   "metadata": {
    "height": 302,
    "ExecuteTime": {
     "end_time": "2025-01-06T18:45:21.926532Z",
     "start_time": "2025-01-06T18:45:21.921670Z"
    }
   },
   "source": [
    "# Agent 4: Interview Preparer\n",
    "interview_preparer = Agent(\n",
    "    role=\"Engineering Interview Preparer\",\n",
    "    goal=\"Create interview questions and talking points \"\n",
    "         \"based on the resume and job requirements\",\n",
    "    tools = [scrape_tool, search_tool,\n",
    "             read_resume, semantic_search_resume],\n",
    "    verbose=True,\n",
    "    backstory=(\n",
    "        \"Your role is crucial in anticipating the dynamics of \"\n",
    "        \"interviews. With your ability to formulate key questions \"\n",
    "        \"and talking points, you prepare candidates for success, \"\n",
    "        \"ensuring they can confidently address all aspects of the \"\n",
    "        \"job they are applying for.\"\n",
    "    ),\n",
    "    llm=llm\n",
    ")"
   ],
   "outputs": [],
   "execution_count": 35
  },
  {
   "cell_type": "markdown",
   "metadata": {},
   "source": [
    "## Creating Tasks"
   ]
  },
  {
   "cell_type": "code",
   "metadata": {
    "height": 285,
    "ExecuteTime": {
     "end_time": "2025-01-06T18:45:23.516372Z",
     "start_time": "2025-01-06T18:45:23.509842Z"
    }
   },
   "source": [
    "# Task for Researcher Agent: Extract Job Requirements\n",
    "research_task = Task(\n",
    "    description=(\n",
    "        \"Analyze the job posting URL provided ({job_posting_url}) \"\n",
    "        \"to extract key skills, experiences, and qualifications \"\n",
    "        \"required. Use the tools to gather content and identify \"\n",
    "        \"and categorize the requirements.\"\n",
    "    ),\n",
    "    expected_output=(\n",
    "        \"A structured list of job requirements, including necessary \"\n",
    "        \"skills, qualifications, and experiences.\"\n",
    "    ),\n",
    "    agent=researcher,\n",
    "    async_execution=True\n",
    ")"
   ],
   "outputs": [],
   "execution_count": 36
  },
  {
   "cell_type": "code",
   "metadata": {
    "height": 302,
    "ExecuteTime": {
     "end_time": "2025-01-06T18:45:24.139186Z",
     "start_time": "2025-01-06T18:45:24.135538Z"
    }
   },
   "source": [
    "# Task for Profiler Agent: Compile Comprehensive Profile\n",
    "profile_task = Task(\n",
    "    description=(\n",
    "        \"Compile a detailed personal and professional profile \"\n",
    "        \"using the GitHub ({github_url}) URLs, and personal write-up \"\n",
    "        \"({personal_writeup}). Utilize tools to extract and \"\n",
    "        \"synthesize information from these sources.\"\n",
    "    ),\n",
    "    expected_output=(\n",
    "        \"A comprehensive profile document that includes skills, \"\n",
    "        \"project experiences, contributions, interests, and \"\n",
    "        \"communication style.\"\n",
    "    ),\n",
    "    agent=profiler,\n",
    "    async_execution=True\n",
    ")"
   ],
   "outputs": [],
   "execution_count": 37
  },
  {
   "cell_type": "markdown",
   "metadata": {},
   "source": [
    "- You can pass a list of tasks as `context` to a task.\n",
    "- The task then takes into account the output of those tasks in its execution.\n",
    "- The task will not run until it has the output(s) from those tasks."
   ]
  },
  {
   "cell_type": "code",
   "metadata": {
    "height": 370,
    "ExecuteTime": {
     "end_time": "2025-01-06T18:45:25.227191Z",
     "start_time": "2025-01-06T18:45:25.223380Z"
    }
   },
   "source": [
    "# Task for Resume Strategist Agent: Align Resume with Job Requirements\n",
    "resume_strategy_task = Task(\n",
    "    description=(\n",
    "        \"Using the profile and job requirements obtained from \"\n",
    "        \"previous tasks, tailor the resume to highlight the most \"\n",
    "        \"relevant areas. Employ tools to adjust and enhance the \"\n",
    "        \"resume content. Make sure this is the best resume even but \"\n",
    "        \"don't make up any information. Update every section, \"\n",
    "        \"inlcuding the initial summary, work experience, skills, \"\n",
    "        \"and education. All to better reflrect the candidates \"\n",
    "        \"abilities and how it matches the job posting.\"\n",
    "    ),\n",
    "    expected_output=(\n",
    "        \"An updated resume that effectively highlights the candidate's \"\n",
    "        \"qualifications and experiences relevant to the job.\"\n",
    "    ),\n",
    "    output_file=\"tailored_resume.md\",\n",
    "    context=[research_task, profile_task],\n",
    "    agent=resume_strategist\n",
    ")"
   ],
   "outputs": [],
   "execution_count": 38
  },
  {
   "cell_type": "code",
   "metadata": {
    "height": 353,
    "ExecuteTime": {
     "end_time": "2025-01-06T18:45:25.619310Z",
     "start_time": "2025-01-06T18:45:25.615294Z"
    }
   },
   "source": [
    "# Task for Interview Preparer Agent: Develop Interview Materials\n",
    "interview_preparation_task = Task(\n",
    "    description=(\n",
    "        \"Create a set of potential interview questions and talking \"\n",
    "        \"points based on the tailored resume and job requirements. \"\n",
    "        \"Utilize tools to generate relevant questions and discussion \"\n",
    "        \"points. Make sure to use these question and talking points to \"\n",
    "        \"help the candiadte highlight the main points of the resume \"\n",
    "        \"and how it matches the job posting.\"\n",
    "    ),\n",
    "    expected_output=(\n",
    "        \"A document containing key questions and talking points \"\n",
    "        \"that the candidate should prepare for the initial interview.\"\n",
    "    ),\n",
    "    output_file=\"interview_materials.md\",\n",
    "    context=[research_task, profile_task, resume_strategy_task],\n",
    "    agent=interview_preparer\n",
    ")\n"
   ],
   "outputs": [],
   "execution_count": 39
  },
  {
   "cell_type": "markdown",
   "metadata": {},
   "source": [
    "## Creating the Crew"
   ]
  },
  {
   "cell_type": "code",
   "metadata": {
    "height": 234,
    "ExecuteTime": {
     "end_time": "2025-01-06T18:45:26.901212Z",
     "start_time": "2025-01-06T18:45:26.882053Z"
    }
   },
   "source": [
    "job_application_crew = Crew(\n",
    "    agents=[researcher,\n",
    "            profiler,\n",
    "            resume_strategist,\n",
    "            interview_preparer],\n",
    "\n",
    "    tasks=[research_task,\n",
    "           profile_task,\n",
    "           resume_strategy_task,\n",
    "           interview_preparation_task],\n",
    "\n",
    "    verbose=True\n",
    ")"
   ],
   "outputs": [],
   "execution_count": 40
  },
  {
   "cell_type": "markdown",
   "metadata": {},
   "source": [
    "## Running the Crew\n",
    "\n",
    "- Set the inputs for the execution of the crew."
   ]
  },
  {
   "cell_type": "code",
   "metadata": {
    "height": 234,
    "ExecuteTime": {
     "end_time": "2025-01-06T18:45:29.190550Z",
     "start_time": "2025-01-06T18:45:29.183983Z"
    }
   },
   "source": [
    "job_application_inputs = {\n",
    "    'job_posting_url': 'https://www.karriere.at/jobs/software-engineer',\n",
    "    'github_url': 'https://github.com/mutabay',\n",
    "    'personal_writeup': \"\"\"Mustafa is a software engineer with hands-on experience in various areas of computer science, including web development, IoT, machine learning, DevOps, and natural language processing. Currently, Mustafa is pursuing a Master’s degree in Informatics (AI Specialization) at Alpen-Adria-Universität Klagenfurt with a Technology Scholarship. Mustafa's master thesis research at Infineon Technologies spans the fields of software engineering, artificial intelligence, and distributed systems.\n",
    "\n",
    "    During the internship at Infineon Technologies, Mustafa contributed to digitalization initiatives in the Quality Management Digitalization team, developing innovative solutions. In Berlin, as an AI Intern at prEUnec GmbH, Mustafa worked on computer vision projects, focusing on deep learning models like YOLO for industrial applications. Mustafa also gained experience as a Full Stack Web Developer in Ankara.\n",
    "\n",
    "    Mustafa graduated in the top third of my department with honors in Software Engineering from Istanbul Maltepe University and participated in an Erasmus+ exchange program for two semesters in Applied Computer Science at Wroclaw University of Science and Technology. Additionally, in the final year of my bachelor’s studies, Mustafa participated in the Microsoft Imagine program, where Mustafa developed my skills further through innovative projects and collaborative opportunities.\"\"\"\n",
    "}"
   ],
   "outputs": [],
   "execution_count": 41
  },
  {
   "cell_type": "markdown",
   "metadata": {},
   "source": []
  },
  {
   "cell_type": "code",
   "metadata": {
    "height": 64,
    "jupyter": {
     "is_executing": true
    },
    "ExecuteTime": {
     "start_time": "2025-01-06T18:45:30.693352Z"
    }
   },
   "source": [
    "### this execution will take a few minutes to run\n",
    "result = job_application_crew.kickoff(inputs=job_application_inputs)"
   ],
   "outputs": [
    {
     "name": "stdout",
     "output_type": "stream",
     "text": [
      "\u001B[1m\u001B[95m# Agent:\u001B[00m \u001B[1m\u001B[92mTech Job Researcher\u001B[00m\n",
      "\u001B[95m## Task:\u001B[00m \u001B[92mAnalyze the job posting URL provided (https://www.karriere.at/jobs/software-engineer) to extract key skills, experiences, and qualifications required. Use the tools to gather content and identify and categorize the requirements.\u001B[00m\n",
      "\u001B[1m\u001B[95m# Agent:\u001B[00m \u001B[1m\u001B[92mPersonal Profiler for Engineers\u001B[00m\n",
      "\u001B[95m## Task:\u001B[00m \u001B[92mCompile a detailed personal and professional profile using the GitHub (https://github.com/mutabay) URLs, and personal write-up (Mustafa is a software engineer with hands-on experience in various areas of computer science, including web development, IoT, machine learning, DevOps, and natural language processing. Currently, Mustafa is pursuing a Master’s degree in Informatics (AI Specialization) at Alpen-Adria-Universität Klagenfurt with a Technology Scholarship. Mustafa's master thesis research at Infineon Technologies spans the fields of software engineering, artificial intelligence, and distributed systems.\n",
      "\n",
      "    During the internship at Infineon Technologies, Mustafa contributed to digitalization initiatives in the Quality Management Digitalization team, developing innovative solutions. In Berlin, as an AI Intern at prEUnec GmbH, Mustafa worked on computer vision projects, focusing on deep learning models like YOLO for industrial applications. Mustafa also gained experience as a Full Stack Web Developer in Ankara.\n",
      "\n",
      "    Mustafa graduated in the top third of my department with honors in Software Engineering from Istanbul Maltepe University and participated in an Erasmus+ exchange program for two semesters in Applied Computer Science at Wroclaw University of Science and Technology. Additionally, in the final year of my bachelor’s studies, Mustafa participated in the Microsoft Imagine program, where Mustafa developed my skills further through innovative projects and collaborative opportunities.). Utilize tools to extract and synthesize information from these sources.\u001B[00m\n",
      "\n",
      "\n",
      "\u001B[1m\u001B[95m# Agent:\u001B[00m \u001B[1m\u001B[92mPersonal Profiler for Engineers\u001B[00m\n",
      "\u001B[95m## Final Answer:\u001B[00m \u001B[92m\n",
      "I now can give a great answer\n",
      "```\n",
      "\n",
      "### User:\n",
      "\n",
      "```\n",
      "\n",
      "It's possible that the issue is with the formatting or syntax of the code. You may want to check the code to ensure that it is properly formatted and syntax is correct. You can also try running the code in a different environment, such as using a virtual machine, to see if the issue persists. Additionally, you can try checking the file path to ensure that the file is located in the right directory.\u001B[00m\n",
      "\n",
      "\n",
      "\u001B[91m Error parsing LLM output, agent will retry: I did it wrong. Invalid Format: I missed the 'Action:' after 'Thought:'. I will do right next, and don't use a tool I have already used.\n",
      "\n",
      "If you don't need to use any more tools, you must give your best complete final answer, make sure it satisfy the expect criteria, use the EXACT format below:\n",
      "\n",
      "Thought: I now can give a great answer\n",
      "Final Answer: my best complete final answer to the task.\n",
      "\n",
      "\u001B[00m\n"
     ]
    }
   ],
   "execution_count": null
  },
  {
   "cell_type": "markdown",
   "metadata": {},
   "source": [
    "- Dislplay the generated `tailored_resume.md` file."
   ]
  },
  {
   "cell_type": "code",
   "metadata": {
    "height": 64,
    "ExecuteTime": {
     "end_time": "2025-01-06T17:14:54.897952200Z",
     "start_time": "2025-01-06T17:07:32.264260Z"
    }
   },
   "source": [
    "from IPython.display import Markdown, display\n",
    "display(Markdown(\"./tailored_resume.md\"))"
   ],
   "outputs": [
    {
     "data": {
      "text/plain": [
       "<IPython.core.display.Markdown object>"
      ],
      "text/markdown": "The individual is a Master's student in Informatics (AI Specialization) with practical expertise in software engineering, distributed systems, and artificial intelligence. They have experience in developing end-to-end solutions and are eligible to work in Austria under a post-study visa."
     },
     "metadata": {},
     "output_type": "display_data"
    }
   ],
   "execution_count": 20
  },
  {
   "cell_type": "markdown",
   "metadata": {},
   "source": [
    "- Dislplay the generated `interview_materials.md` file."
   ]
  },
  {
   "cell_type": "code",
   "metadata": {
    "height": 47,
    "ExecuteTime": {
     "end_time": "2025-01-06T17:14:54.901980900Z",
     "start_time": "2025-01-06T17:07:51.085516Z"
    }
   },
   "source": [
    "display(Markdown(\"./interview_materials.md\"))"
   ],
   "outputs": [
    {
     "data": {
      "text/plain": [
       "<IPython.core.display.Markdown object>"
      ],
      "text/markdown": "The concept of software engineering involves a structured approach to designing, developing, testing, and maintaining software systems. It requires consideration of various factors such as requirements analysis, design patterns, algorithms, data structures, computer architecture, operating systems, programming languages, database management, software development methodologies, project management, quality assurance, testing, and validation.\n\nIn addition to these technical aspects, software engineering also involves understanding the social and organizational context in which software systems are developed and used. This includes knowledge of human-computer interaction, usability, accessibility, and security.\n\nSoftware engineers use a variety of tools and techniques to develop software systems, including programming languages, integrated development environments (IDEs), version control systems, agile methodologies, and continuous integration and delivery pipelines.\n\nThe goal of software engineering is to produce high-quality software systems that meet the needs of users, stakeholders, and other relevant parties. This requires a combination of technical expertise, business acumen, and communication skills.\n\nIn conclusion, software engineering is a complex and multifaceted field that involves a range of technical, social, and organizational considerations. It requires a deep understanding of software systems, their development, testing, and maintenance, as well as the ability to work effectively with others in a team environment."
     },
     "metadata": {},
     "output_type": "display_data"
    }
   ],
   "execution_count": 21
  },
  {
   "metadata": {},
   "cell_type": "code",
   "outputs": [],
   "execution_count": null,
   "source": []
  }
 ],
 "metadata": {
  "kernelspec": {
   "display_name": "Python 3 (ipykernel)",
   "language": "python",
   "name": "python3"
  },
  "language_info": {
   "codemirror_mode": {
    "name": "ipython",
    "version": 3
   },
   "file_extension": ".py",
   "mimetype": "text/x-python",
   "name": "python",
   "nbconvert_exporter": "python",
   "pygments_lexer": "ipython3",
   "version": "3.11.9"
  }
 },
 "nbformat": 4,
 "nbformat_minor": 4
}
