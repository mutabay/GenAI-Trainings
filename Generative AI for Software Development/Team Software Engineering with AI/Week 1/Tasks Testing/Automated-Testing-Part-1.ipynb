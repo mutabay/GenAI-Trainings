{
 "nbformat": 4,
 "nbformat_minor": 0,
 "metadata": {
  "colab": {
   "provenance": []
  },
  "kernelspec": {
   "name": "python3",
   "language": "python",
   "display_name": "Python 3 (ipykernel)"
  },
  "language_info": {
   "name": "python"
  }
 },
 "cells": [
  {
   "cell_type": "code",
   "execution_count": 11,
   "metadata": {
    "colab": {
     "base_uri": "https://localhost:8080/"
    },
    "id": "ndhsWhnGuY7c",
    "executionInfo": {
     "status": "ok",
     "timestamp": 1723058021561,
     "user_tz": 180,
     "elapsed": 308,
     "user": {
      "displayName": "Lucas Coutinho",
      "userId": "17134509355433454861"
     }
    },
    "outputId": "4adfb72b-ad61-4b9b-d443-d0e3d8b4fd43",
    "ExecuteTime": {
     "end_time": "2025-01-07T09:24:11.960806Z",
     "start_time": "2025-01-07T09:24:11.955278Z"
    }
   },
   "outputs": [
    {
     "name": "stdout",
     "output_type": "stream",
     "text": [
      "Overwriting tasks.py\n"
     ]
    }
   ],
   "source": [
    "%%file tasks.py\n",
    "import pytest\n",
    "tasks = []\n",
    "\n",
    "def add_task(task):\n",
    "    if not task:\n",
    "      raise ValueError(\"Task cannot be empty.\")\n",
    "    else:\n",
    "      tasks.append(task)\n",
    "    return tasks\n",
    "\n",
    "def remove_task(task):\n",
    "    if task in tasks:\n",
    "        tasks.remove(task)\n",
    "        return tasks\n",
    "    else:\n",
    "        return \"Task not found.\"\n",
    "\n",
    "def list_tasks():\n",
    "    return tasks\n",
    "\n",
    "def clear_tasks():\n",
    "    tasks.clear()\n",
    "    return \"Tasks cleared.\"\n",
    "\n",
    "def test_add_task():\n",
    "    clear_tasks()\n",
    "    assert add_task('Buy groceries') == ['Buy groceries']\n",
    "    assert add_task('Read a book') == ['Buy groceries', 'Read a book']\n",
    "    clear_tasks()\n",
    "\n",
    "def test_list_tasks():\n",
    "    clear_tasks()\n",
    "    assert list_tasks() == []\n",
    "    add_task('Buy groceries')\n",
    "    assert list_tasks() == ['Buy groceries']\n",
    "    add_task('Go for a run')\n",
    "    assert list_tasks() == ['Buy groceries', 'Go for a run']\n",
    "    clear_tasks()\n",
    "\n",
    "@pytest.mark.parametrize(\"task, expected\", [\n",
    "    ('Buy groceries', ['Buy groceries']),\n",
    "    ('Read a book', ['Buy groceries', 'Read a book']),\n",
    "    ('Exercise', ['Buy groceries', 'Read a book', 'Exercise'])\n",
    "])\n",
    "def test_add_task_param(task, expected):\n",
    "    assert add_task(task) == expected\n",
    "\n",
    "\n",
    "# Additional Tests\n",
    "def test_add_empty_task():\n",
    "    clear_tasks()\n",
    "    with pytest.raises(ValueError, match=\"Task cannot be empty.\"):\n",
    "        add_task(\"\")\n",
    "\n",
    "def test_remove_existing_task():\n",
    "    clear_tasks()\n",
    "    add_task('Buy groceries')\n",
    "    assert remove_task('Buy groceries') == []\n",
    "    assert list_tasks() == []\n",
    "\n",
    "def test_remove_non_existent_task():\n",
    "    clear_tasks()\n",
    "    assert remove_task('Non-existent task') == \"Task not found.\"\n",
    "\n",
    "def test_clear_tasks():\n",
    "    add_task('Buy groceries')\n",
    "    add_task('Read a book')\n",
    "    assert clear_tasks() == \"Tasks cleared.\"\n",
    "    assert list_tasks() == []\n",
    "\n",
    "def test_add_duplicate_task():\n",
    "    clear_tasks()\n",
    "    assert add_task('Buy groceries') == ['Buy groceries']\n",
    "    assert add_task('Buy groceries') == ['Buy groceries', 'Buy groceries']"
   ]
  },
  {
   "cell_type": "code",
   "source": [
    "!pytest tasks.py"
   ],
   "metadata": {
    "colab": {
     "base_uri": "https://localhost:8080/"
    },
    "id": "MYnYKJOmuvVo",
    "executionInfo": {
     "status": "ok",
     "timestamp": 1723058027813,
     "user_tz": 180,
     "elapsed": 1151,
     "user": {
      "displayName": "Lucas Coutinho",
      "userId": "17134509355433454861"
     }
    },
    "outputId": "2c489eb9-7801-47a2-9aaa-a64a5edbf804",
    "ExecuteTime": {
     "end_time": "2025-01-07T09:24:13.052681Z",
     "start_time": "2025-01-07T09:24:12.510302Z"
    }
   },
   "execution_count": 12,
   "outputs": [
    {
     "name": "stdout",
     "output_type": "stream",
     "text": [
      "\u001B[1m============================= test session starts =============================\u001B[0m\n",
      "platform win32 -- Python 3.11.6, pytest-8.3.4, pluggy-1.5.0\n",
      "rootdir: C:\\Users\\bayram\\Desktop\\Training\\Gen AI\\Team Software Engineering with AI\\Tasks Testing\n",
      "plugins: anyio-4.2.0\n",
      "collected 10 items\n",
      "\n",
      "tasks.py \u001B[32m.\u001B[0m\u001B[32m.\u001B[0m\u001B[32m.\u001B[0m\u001B[32m.\u001B[0m\u001B[32m.\u001B[0m\u001B[32m.\u001B[0m\u001B[32m.\u001B[0m\u001B[32m.\u001B[0m\u001B[32m.\u001B[0m\u001B[32m.\u001B[0m\u001B[32m                                                      [100%]\u001B[0m\n",
      "\n",
      "\u001B[32m============================= \u001B[32m\u001B[1m10 passed\u001B[0m\u001B[32m in 0.09s\u001B[0m\u001B[32m ==============================\u001B[0m\n"
     ]
    }
   ]
  },
  {
   "cell_type": "code",
   "source": [],
   "metadata": {
    "id": "3ZqC-Y4HQvcZ"
   },
   "execution_count": null,
   "outputs": []
  }
 ]
}
