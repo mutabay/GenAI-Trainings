{
 "nbformat": 4,
 "nbformat_minor": 0,
 "metadata": {
  "colab": {
   "provenance": [],
   "authorship_tag": "ABX9TyMfvNhtUXslnDT1yyJ9B4g8"
  },
  "kernelspec": {
   "name": "python3",
   "language": "python",
   "display_name": "Python 3 (ipykernel)"
  },
  "language_info": {
   "name": "python"
  }
 },
 "cells": [
  {
   "cell_type": "code",
   "execution_count": 6,
   "metadata": {
    "colab": {
     "base_uri": "https://localhost:8080/"
    },
    "id": "1-A7q7tsY6og",
    "executionInfo": {
     "status": "ok",
     "timestamp": 1721400011628,
     "user_tz": 420,
     "elapsed": 6,
     "user": {
      "displayName": "Laurence Moroney",
      "userId": "17858265307580721507"
     }
    },
    "outputId": "ad75a627-823d-4374-ab21-cba6e12790e6",
    "ExecuteTime": {
     "end_time": "2025-01-07T09:08:49.857304Z",
     "start_time": "2025-01-07T09:08:49.851039Z"
    }
   },
   "outputs": [
    {
     "name": "stdout",
     "output_type": "stream",
     "text": [
      "Task 'Buy groceries' added.\n",
      "Task 'Read a book' added.\n",
      "['Buy groceries', 'Read a book']\n",
      "Task 'Read a book' removed.\n",
      "['Buy groceries']\n"
     ]
    }
   ],
   "source": [
    "tasks = []\n",
    "\n",
    "def add_task(task):\n",
    "    if not task.strip():\n",
    "        return \"Task cannot be empty.\"\n",
    "    tasks.append(task)\n",
    "    return f\"Task '{task}' added.\"\n",
    "\n",
    "def remove_task(task):\n",
    "    if task in tasks:\n",
    "        tasks.remove(task)\n",
    "        return f\"Task '{task}' removed.\"\n",
    "    else:\n",
    "        return \"Task not found.\"\n",
    "\n",
    "def list_tasks():\n",
    "    return tasks\n",
    "\n",
    "# Example usage\n",
    "print(add_task(\"Buy groceries\"))\n",
    "print(add_task(\"Read a book\"))\n",
    "print(list_tasks())\n",
    "print(remove_task(\"Read a book\"))\n",
    "print(list_tasks())"
   ]
  },
  {
   "cell_type": "code",
   "source": [
    "print(remove_task(\"Go for a run\"))  # Output: Task not found."
   ],
   "metadata": {
    "id": "Ep6w1oRvZZtv",
    "colab": {
     "base_uri": "https://localhost:8080/"
    },
    "executionInfo": {
     "status": "ok",
     "timestamp": 1721400024393,
     "user_tz": 420,
     "elapsed": 220,
     "user": {
      "displayName": "Laurence Moroney",
      "userId": "17858265307580721507"
     }
    },
    "outputId": "fd969c54-fade-442c-cafb-63cc6e8f55b9",
    "ExecuteTime": {
     "end_time": "2025-01-07T09:08:50.140219Z",
     "start_time": "2025-01-07T09:08:50.134811Z"
    }
   },
   "execution_count": 7,
   "outputs": [
    {
     "name": "stdout",
     "output_type": "stream",
     "text": [
      "Task not found.\n"
     ]
    }
   ]
  },
  {
   "cell_type": "code",
   "source": [
    "print(add_task(\"Read a book\"))\n",
    "print(add_task(\"\"))  # Output: Task '' added.\n",
    "print(list_tasks())  # Output: ['Buy groceries', 'Read a book', '']"
   ],
   "metadata": {
    "id": "gEO-l_17ZfQL",
    "colab": {
     "base_uri": "https://localhost:8080/"
    },
    "executionInfo": {
     "status": "ok",
     "timestamp": 1721400028185,
     "user_tz": 420,
     "elapsed": 257,
     "user": {
      "displayName": "Laurence Moroney",
      "userId": "17858265307580721507"
     }
    },
    "outputId": "e2a9cb9f-8fd9-45cc-9955-31035d1aca7e",
    "ExecuteTime": {
     "end_time": "2025-01-07T09:08:50.395810Z",
     "start_time": "2025-01-07T09:08:50.389759Z"
    }
   },
   "execution_count": 8,
   "outputs": [
    {
     "name": "stdout",
     "output_type": "stream",
     "text": [
      "Task 'Read a book' added.\n",
      "Task cannot be empty.\n",
      "['Buy groceries', 'Read a book']\n"
     ]
    }
   ]
  },
  {
   "cell_type": "code",
   "source": [
    "print(add_task(\"!@#$%^&*()\"))  # Output: Task '!@#$%^&*()' added.\n",
    "print(list_tasks())            # Output: ['Buy groceries', 'Read a book', '', '!@#$%^&*()']\n",
    "\n",
    "long_task = \"a\" * 1000\n",
    "print(add_task(long_task))     # Output: Task '<1000 characters>' added.\n",
    "print(list_tasks())            # Output: ['Buy groceries', 'Read a book', '', '!@#$%^&*()', '<1000 characters>']"
   ],
   "metadata": {
    "id": "XJzG79ygZpRS",
    "colab": {
     "base_uri": "https://localhost:8080/"
    },
    "executionInfo": {
     "status": "ok",
     "timestamp": 1721400041734,
     "user_tz": 420,
     "elapsed": 215,
     "user": {
      "displayName": "Laurence Moroney",
      "userId": "17858265307580721507"
     }
    },
    "outputId": "e60a6c03-55c3-47ae-f640-e4a990e85161",
    "ExecuteTime": {
     "end_time": "2025-01-07T09:08:50.598284Z",
     "start_time": "2025-01-07T09:08:50.591966Z"
    }
   },
   "execution_count": 9,
   "outputs": [
    {
     "name": "stdout",
     "output_type": "stream",
     "text": [
      "Task '!@#$%^&*()' added.\n",
      "['Buy groceries', 'Read a book', '!@#$%^&*()']\n",
      "Task 'aaaaaaaaaaaaaaaaaaaaaaaaaaaaaaaaaaaaaaaaaaaaaaaaaaaaaaaaaaaaaaaaaaaaaaaaaaaaaaaaaaaaaaaaaaaaaaaaaaaaaaaaaaaaaaaaaaaaaaaaaaaaaaaaaaaaaaaaaaaaaaaaaaaaaaaaaaaaaaaaaaaaaaaaaaaaaaaaaaaaaaaaaaaaaaaaaaaaaaaaaaaaaaaaaaaaaaaaaaaaaaaaaaaaaaaaaaaaaaaaaaaaaaaaaaaaaaaaaaaaaaaaaaaaaaaaaaaaaaaaaaaaaaaaaaaaaaaaaaaaaaaaaaaaaaaaaaaaaaaaaaaaaaaaaaaaaaaaaaaaaaaaaaaaaaaaaaaaaaaaaaaaaaaaaaaaaaaaaaaaaaaaaaaaaaaaaaaaaaaaaaaaaaaaaaaaaaaaaaaaaaaaaaaaaaaaaaaaaaaaaaaaaaaaaaaaaaaaaaaaaaaaaaaaaaaaaaaaaaaaaaaaaaaaaaaaaaaaaaaaaaaaaaaaaaaaaaaaaaaaaaaaaaaaaaaaaaaaaaaaaaaaaaaaaaaaaaaaaaaaaaaaaaaaaaaaaaaaaaaaaaaaaaaaaaaaaaaaaaaaaaaaaaaaaaaaaaaaaaaaaaaaaaaaaaaaaaaaaaaaaaaaaaaaaaaaaaaaaaaaaaaaaaaaaaaaaaaaaaaaaaaaaaaaaaaaaaaaaaaaaaaaaaaaaaaaaaaaaaaaaaaaaaaaaaaaaaaaaaaaaaaaaaaaaaaaaaaaaaaaaaaaaaaaaaaaaaaaaaaaaaaaaaaaaaaaaaaaaaaaaaaaaaaaaaaaaaaaaaaaaaaaaaaaaaaaaaaaaaaaaaaaaaaaaaaaaaaaaaaaaaaaaaaaaaaaaaaaaaaaaaaaaaaaaaaaaaaaaaaaaaaaaaaaaaaaaaaaaaaaaaaaaaaaaaaaaaaaaaaaaaaaaaaaaaaaaaaaaaaaaaaaaaaaaaaaaaaaaaaaaaaaaaaaaaaaaaaaaaaa' added.\n",
      "['Buy groceries', 'Read a book', '!@#$%^&*()', 'aaaaaaaaaaaaaaaaaaaaaaaaaaaaaaaaaaaaaaaaaaaaaaaaaaaaaaaaaaaaaaaaaaaaaaaaaaaaaaaaaaaaaaaaaaaaaaaaaaaaaaaaaaaaaaaaaaaaaaaaaaaaaaaaaaaaaaaaaaaaaaaaaaaaaaaaaaaaaaaaaaaaaaaaaaaaaaaaaaaaaaaaaaaaaaaaaaaaaaaaaaaaaaaaaaaaaaaaaaaaaaaaaaaaaaaaaaaaaaaaaaaaaaaaaaaaaaaaaaaaaaaaaaaaaaaaaaaaaaaaaaaaaaaaaaaaaaaaaaaaaaaaaaaaaaaaaaaaaaaaaaaaaaaaaaaaaaaaaaaaaaaaaaaaaaaaaaaaaaaaaaaaaaaaaaaaaaaaaaaaaaaaaaaaaaaaaaaaaaaaaaaaaaaaaaaaaaaaaaaaaaaaaaaaaaaaaaaaaaaaaaaaaaaaaaaaaaaaaaaaaaaaaaaaaaaaaaaaaaaaaaaaaaaaaaaaaaaaaaaaaaaaaaaaaaaaaaaaaaaaaaaaaaaaaaaaaaaaaaaaaaaaaaaaaaaaaaaaaaaaaaaaaaaaaaaaaaaaaaaaaaaaaaaaaaaaaaaaaaaaaaaaaaaaaaaaaaaaaaaaaaaaaaaaaaaaaaaaaaaaaaaaaaaaaaaaaaaaaaaaaaaaaaaaaaaaaaaaaaaaaaaaaaaaaaaaaaaaaaaaaaaaaaaaaaaaaaaaaaaaaaaaaaaaaaaaaaaaaaaaaaaaaaaaaaaaaaaaaaaaaaaaaaaaaaaaaaaaaaaaaaaaaaaaaaaaaaaaaaaaaaaaaaaaaaaaaaaaaaaaaaaaaaaaaaaaaaaaaaaaaaaaaaaaaaaaaaaaaaaaaaaaaaaaaaaaaaaaaaaaaaaaaaaaaaaaaaaaaaaaaaaaaaaaaaaaaaaaaaaaaaaaaaaaaaaaaaaaaaaaaaaaaaaaaaaaaaaaaaaaaaaaaaaaaaaaaaaaaaaaaaaaaaaaaaaaaaaaaaaa']\n"
     ]
    }
   ]
  },
  {
   "cell_type": "code",
   "source": [
    "import unittest\n",
    "\n",
    "class TestTodoList(unittest.TestCase):\n",
    "\n",
    "    def setUp(self):\n",
    "        global tasks\n",
    "        tasks = []\n",
    "\n",
    "    def test_add_task(self):\n",
    "        self.assertEqual(add_task(\"Buy groceries\"), \"Task 'Buy groceries' added.\")\n",
    "        self.assertIn(\"Buy groceries\", tasks)\n",
    "\n",
    "    def test_remove_task(self):\n",
    "        add_task(\"Read a book\")\n",
    "        self.assertEqual(remove_task(\"Read a book\"), \"Task 'Read a book' removed.\")\n",
    "        self.assertNotIn(\"Read a book\", tasks)\n",
    "\n",
    "    def test_remove_nonexistent_task(self):\n",
    "        self.assertEqual(remove_task(\"Go for a run\"), \"Task not found.\")\n",
    "\n",
    "    def test_list_tasks(self):\n",
    "        add_task(\"Buy groceries\")\n",
    "        add_task(\"Read a book\")\n",
    "        self.assertEqual(list_tasks(), [\"Buy groceries\", \"Read a book\"])\n",
    "\n",
    "    def test_add_empty_task(self):\n",
    "        self.assertEqual(add_task(\"\"), \"Task cannot be empty.\")\n",
    "        self.assertNotIn(\"\", tasks)\n",
    "\n",
    "\n",
    "unittest.main(argv=[''], verbosity=2, exit=False)"
   ],
   "metadata": {
    "id": "6Fa7h3TAaS5N",
    "colab": {
     "base_uri": "https://localhost:8080/"
    },
    "executionInfo": {
     "status": "ok",
     "timestamp": 1721400065871,
     "user_tz": 420,
     "elapsed": 198,
     "user": {
      "displayName": "Laurence Moroney",
      "userId": "17858265307580721507"
     }
    },
    "outputId": "e6ebb75a-847a-4ba5-b857-cbef427df654",
    "ExecuteTime": {
     "end_time": "2025-01-07T09:11:17.980996Z",
     "start_time": "2025-01-07T09:11:17.963631Z"
    }
   },
   "execution_count": 12,
   "outputs": [
    {
     "name": "stderr",
     "output_type": "stream",
     "text": [
      "test_add_empty_task (__main__.TestTodoList.test_add_empty_task) ... ok\n",
      "test_add_task (__main__.TestTodoList.test_add_task) ... ok\n",
      "test_list_tasks (__main__.TestTodoList.test_list_tasks) ... ok\n",
      "test_remove_nonexistent_task (__main__.TestTodoList.test_remove_nonexistent_task) ... ok\n",
      "test_remove_task (__main__.TestTodoList.test_remove_task) ... ok\n",
      "\n",
      "----------------------------------------------------------------------\n",
      "Ran 5 tests in 0.005s\n",
      "\n",
      "OK\n"
     ]
    },
    {
     "data": {
      "text/plain": "<unittest.main.TestProgram at 0x24670e524d0>"
     },
     "execution_count": 12,
     "metadata": {},
     "output_type": "execute_result"
    }
   ]
  },
  {
   "cell_type": "code",
   "outputs": [],
   "source": [],
   "metadata": {
    "collapsed": false,
    "ExecuteTime": {
     "end_time": "2025-01-07T09:08:51.126663Z",
     "start_time": "2025-01-07T09:08:51.123942Z"
    }
   },
   "execution_count": 10
  },
  {
   "cell_type": "code",
   "outputs": [],
   "source": [],
   "metadata": {
    "collapsed": false
   }
  }
 ]
}
