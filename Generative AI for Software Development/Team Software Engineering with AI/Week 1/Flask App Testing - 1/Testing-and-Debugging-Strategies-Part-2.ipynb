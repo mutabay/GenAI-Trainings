{
 "nbformat": 4,
 "nbformat_minor": 0,
 "metadata": {
  "colab": {
   "provenance": []
  },
  "kernelspec": {
   "name": "python3",
   "language": "python",
   "display_name": "Python 3 (ipykernel)"
  },
  "language_info": {
   "name": "python"
  }
 },
 "cells": [
  {
   "cell_type": "code",
   "execution_count": 1,
   "metadata": {
    "colab": {
     "base_uri": "https://localhost:8080/"
    },
    "id": "OuiO887COW2F",
    "executionInfo": {
     "status": "ok",
     "timestamp": 1721398124150,
     "user_tz": 420,
     "elapsed": 252,
     "user": {
      "displayName": "Laurence Moroney",
      "userId": "17858265307580721507"
     }
    },
    "outputId": "f7dc25d8-9433-483d-fc47-fefda97d4dfd",
    "ExecuteTime": {
     "end_time": "2025-01-07T08:51:01.933929Z",
     "start_time": "2025-01-07T08:51:01.815198Z"
    }
   },
   "outputs": [],
   "source": [
    "from flask import Flask, jsonify, abort, request\n",
    "import re\n",
    "import threading\n",
    "\n",
    "app = Flask(__name__)\n",
    "\n",
    "# Function to check for HTML tags\n",
    "def contains_html_tags(text):\n",
    "    html_tag_pattern = re.compile(r'<[^>]+>')\n",
    "    return bool(html_tag_pattern.search(text))\n",
    "\n",
    "@app.route('/api/greet', methods=['GET'])\n",
    "def greet():\n",
    "    name = request.args.get('name')\n",
    "    if not name:\n",
    "        abort(400, description=\"Name parameter is required.\")\n",
    "    if contains_html_tags(name):\n",
    "        abort(400, description=\"HTML content is not allowed in the name parameter.\")\n",
    "    return jsonify(message=f\"Hello, {name}!\")\n",
    "\n",
    "@app.errorhandler(400)\n",
    "def handle_bad_request(e):\n",
    "    response = jsonify(error=str(e))\n",
    "    response.status_code = 400\n",
    "    return response\n",
    "\n",
    "@app.errorhandler(404)\n",
    "def handle_not_found(e):\n",
    "    response = jsonify(error=\"Not Found\")\n",
    "    response.status_code = 404\n",
    "    return response\n",
    "\n",
    "# To get it to work in Colab, use this line instead of the usual app.run\n",
    "threading.Thread(target=app.run, kwargs={'host':'0.0.0.0','port':5000}).start()"
   ]
  },
  {
   "cell_type": "code",
   "source": [
    "import unittest\n",
    "from flask.testing import FlaskClient\n",
    "\n",
    "class FlaskTestClient(FlaskClient):\n",
    "    def open(self, *args, **kwargs):\n",
    "        kwargs.setdefault('follow_redirects', True)\n",
    "        return super().open(*args, **kwargs)\n",
    "\n",
    "app.test_client_class = FlaskTestClient\n",
    "\n",
    "class TestFlaskAPI(unittest.TestCase):\n",
    "    def setUp(self):\n",
    "        self.app = app.test_client()\n",
    "        self.app.testing = True\n",
    "\n",
    "    def test_basic_greeting(self):\n",
    "        response = self.app.get('/api/greet?name=John')\n",
    "        self.assertEqual(response.status_code, 200)\n",
    "        self.assertEqual(response.json, {\"message\": \"Hello, John!\"})\n",
    "\n",
    "    def test_url_encoding(self):\n",
    "        response = self.app.get('/api/greet?name=John%20Doe')\n",
    "        self.assertEqual(response.status_code, 200)\n",
    "        self.assertEqual(response.json, {\"message\": \"Hello, John Doe!\"})\n",
    "\n",
    "    def test_special_characters(self):\n",
    "        response = self.app.get('/api/greet?name=@!$*')\n",
    "        self.assertEqual(response.status_code, 200)\n",
    "        self.assertEqual(response.json, {\"message\": \"Hello, @!$*!\"})\n",
    "\n",
    "    def test_empty_name(self):\n",
    "        response = self.app.get('/api/greet')\n",
    "        self.assertEqual(response.status_code, 400)\n",
    "        self.assertEqual(response.json, {\"error\": \"400 Bad Request: Name parameter is required.\"})\n",
    "\n",
    "    def test_numeric_name(self):\n",
    "        response = self.app.get('/api/greet?name=12345')\n",
    "        self.assertEqual(response.status_code, 200)\n",
    "        self.assertEqual(response.json, {\"message\": \"Hello, 12345!\"})\n",
    "\n",
    "    def test_long_name(self):\n",
    "        long_name = \"a\" * 1000\n",
    "        response = self.app.get(f'/api/greet?name={long_name}')\n",
    "        self.assertEqual(response.status_code, 200)\n",
    "        self.assertEqual(response.json, {\"message\": f\"Hello, {long_name}!\"})\n",
    "\n",
    "    def test_html_injection(self):\n",
    "        html_name = \"<script>alert('test')</script>\"\n",
    "        response = self.app.get(f'/api/greet?name={html_name}')\n",
    "        # Note that this was added to double check. THis is why you'll see the error in the output, even if the test passed.\n",
    "        print(response.json)\n",
    "        self.assertEqual(response.status_code, 400)\n",
    "        self.assertEqual(response.json, {\"error\": \"400 Bad Request: HTML content is not allowed in the name parameter.\"})\n",
    "\n",
    "    def test_json_response_format(self):\n",
    "        response = self.app.get('/api/greet?name=John')\n",
    "        self.assertEqual(response.headers['Content-Type'], 'application/json')\n",
    "        self.assertTrue(response.json)\n",
    "\n",
    "if __name__ == '__main__':\n",
    "    unittest.main(argv=[''], verbosity=2, exit=False)"
   ],
   "metadata": {
    "colab": {
     "base_uri": "https://localhost:8080/"
    },
    "id": "GQ1irVj_OrPp",
    "executionInfo": {
     "status": "ok",
     "timestamp": 1721398183179,
     "user_tz": 420,
     "elapsed": 272,
     "user": {
      "displayName": "Laurence Moroney",
      "userId": "17858265307580721507"
     }
    },
    "outputId": "8d4eb046-8582-4628-b2e5-1e5660b80fab",
    "ExecuteTime": {
     "end_time": "2025-01-07T08:52:28.629574Z",
     "start_time": "2025-01-07T08:52:28.600572Z"
    }
   },
   "execution_count": 4,
   "outputs": [
    {
     "name": "stderr",
     "output_type": "stream",
     "text": [
      "test_basic_greeting (__main__.TestFlaskAPI.test_basic_greeting) ... ok\n",
      "test_empty_name (__main__.TestFlaskAPI.test_empty_name) ... ok\n",
      "test_html_injection (__main__.TestFlaskAPI.test_html_injection) ... ok\n",
      "test_json_response_format (__main__.TestFlaskAPI.test_json_response_format) ... ok\n",
      "test_long_name (__main__.TestFlaskAPI.test_long_name) ... ok\n",
      "test_numeric_name (__main__.TestFlaskAPI.test_numeric_name) ... ok\n",
      "test_special_characters (__main__.TestFlaskAPI.test_special_characters) ... ok\n",
      "test_url_encoding (__main__.TestFlaskAPI.test_url_encoding) ... ok\n",
      "\n",
      "----------------------------------------------------------------------\n",
      "Ran 8 tests in 0.013s\n",
      "\n",
      "OK\n"
     ]
    },
    {
     "name": "stdout",
     "output_type": "stream",
     "text": [
      "{'error': '400 Bad Request: HTML content is not allowed in the name parameter.'}\n"
     ]
    }
   ]
  },
  {
   "cell_type": "code",
   "source": [],
   "metadata": {
    "id": "078RFhoqzR-Y"
   },
   "execution_count": null,
   "outputs": []
  }
 ]
}
