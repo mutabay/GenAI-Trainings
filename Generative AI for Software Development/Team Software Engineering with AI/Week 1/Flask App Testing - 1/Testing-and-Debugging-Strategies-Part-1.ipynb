{
 "nbformat": 4,
 "nbformat_minor": 0,
 "metadata": {
  "colab": {
   "provenance": []
  },
  "kernelspec": {
   "name": "python3",
   "language": "python",
   "display_name": "Python 3 (ipykernel)"
  },
  "language_info": {
   "name": "python"
  }
 },
 "cells": [
  {
   "cell_type": "code",
   "execution_count": 8,
   "metadata": {
    "colab": {
     "base_uri": "https://localhost:8080/"
    },
    "id": "TeANyrxDE3QN",
    "executionInfo": {
     "status": "ok",
     "timestamp": 1721452731497,
     "user_tz": 420,
     "elapsed": 426,
     "user": {
      "displayName": "Laurence Moroney",
      "userId": "17858265307580721507"
     }
    },
    "outputId": "f6600335-8d06-4fd9-f2d9-dcb4eab1355d",
    "ExecuteTime": {
     "end_time": "2025-01-07T08:45:44.559446Z",
     "start_time": "2025-01-07T08:45:43.201057Z"
    }
   },
   "outputs": [
    {
     "name": "stdout",
     "output_type": "stream",
     "text": [
      " * Serving Flask app '__main__'\n",
      " * Debug mode: on\n"
     ]
    },
    {
     "name": "stderr",
     "output_type": "stream",
     "text": [
      "WARNING: This is a development server. Do not use it in a production deployment. Use a production WSGI server instead.\n",
      " * Running on http://127.0.0.1:5000\n",
      "Press CTRL+C to quit\n",
      " * Restarting with stat\n"
     ]
    },
    {
     "ename": "SystemExit",
     "evalue": "1",
     "output_type": "error",
     "traceback": [
      "An exception has occurred, use %tb to see the full traceback.\n",
      "\u001B[1;31mSystemExit\u001B[0m\u001B[1;31m:\u001B[0m 1\n"
     ]
    },
    {
     "name": "stderr",
     "output_type": "stream",
     "text": [
      "C:\\Users\\bayram\\AppData\\Roaming\\Python\\Python311\\site-packages\\IPython\\core\\interactiveshell.py:3534: UserWarning: To exit: use 'exit', 'quit', or Ctrl-D.\n",
      "  warn(\"To exit: use 'exit', 'quit', or Ctrl-D.\", stacklevel=1)\n"
     ]
    }
   ],
   "source": [
    "from flask import Flask, jsonify\n",
    "import threading\n",
    "\n",
    "app = Flask(__name__)\n",
    "\n",
    "@app.route('/api/greet/<name>', methods=['GET'])\n",
    "def greet(name):\n",
    "    return jsonify(message=f\"Hello, {name}!\")\n",
    "\n",
    "# To get it to work in Colab, use this line instead of the usual app.run\n",
    "threading.Thread(target=app.run, kwargs={'host':'0.0.0.0','port':5000}).start()"
   ]
  },
  {
   "cell_type": "markdown",
   "source": [
    "## Test Cases for the Flask Application"
   ],
   "metadata": {
    "collapsed": false
   }
  },
  {
   "cell_type": "markdown",
   "source": [
    "#### Test Case: Valid Name Input"
   ],
   "metadata": {
    "collapsed": false
   }
  },
  {
   "cell_type": "code",
   "metadata": {
    "id": "XDrmi6eQuHDQ",
    "outputId": "607fb416-f274-4de0-cd48-84c9b1f2d07f",
    "colab": {
     "base_uri": "https://localhost:8080/"
    },
    "executionInfo": {
     "status": "ok",
     "timestamp": 1721452743475,
     "user_tz": 420,
     "elapsed": 567,
     "user": {
      "displayName": "Laurence Moroney",
      "userId": "17858265307580721507"
     }
    },
    "ExecuteTime": {
     "end_time": "2025-01-07T08:53:23.274027Z",
     "start_time": "2025-01-07T08:53:23.265899Z"
    }
   },
   "source": [
    "# When using the threading line above in Colab, you can now call your API in colab too!\n",
    "import requests\n",
    "req = requests.get(\"http://127.0.0.1:5000/api/greet/mutabay\")\n",
    "print(req.status_code)\n",
    "print(req.text)"
   ],
   "execution_count": 16,
   "outputs": [
    {
     "name": "stdout",
     "output_type": "stream",
     "text": [
      "200\n",
      "{\n",
      "  \"message\": \"Hello, mutabay!\"\n",
      "}\n"
     ]
    }
   ]
  },
  {
   "cell_type": "code",
   "source": [
    "import unittest\n",
    "from flask.testing import FlaskClient\n",
    "\n",
    "class FlaskTestClient(FlaskClient):\n",
    "    def open(self, *args, **kwargs):\n",
    "        kwargs.setdefault('follow_redirects', True)\n",
    "        return super().open(*args, **kwargs)\n",
    "\n",
    "app.test_client_class = FlaskTestClient\n",
    "\n",
    "class TestFlaskAPI(unittest.TestCase):\n",
    "    def setUp(self):\n",
    "        self.app = app.test_client()\n",
    "        self.app.testing = True\n",
    "\n",
    "    def test_basic_greeting(self):\n",
    "        response = self.app.get('/api/greet/John')\n",
    "        self.assertEqual(response.status_code, 200)\n",
    "        self.assertEqual(response.json, {\"message\": \"Hello, John!\"})\n",
    "\n",
    "    def test_url_encoding(self):\n",
    "        response = self.app.get('/api/greet/John%20Doe')\n",
    "        self.assertEqual(response.status_code, 200)\n",
    "        self.assertEqual(response.json, {\"message\": \"Hello, John Doe!\"})\n",
    "\n",
    "    def test_special_characters(self):\n",
    "        response = self.app.get('/api/greet/@!$*')\n",
    "        self.assertEqual(response.status_code, 200)\n",
    "        self.assertEqual(response.json, {\"message\": \"Hello, @!$*!\"})\n",
    "\n",
    "    def test_empty_name(self):\n",
    "        response = self.app.get('/api/greet/')\n",
    "        self.assertEqual(response.status_code, 404)\n",
    "\n",
    "    def test_numeric_name(self):\n",
    "        response = self.app.get('/api/greet/12345')\n",
    "        self.assertEqual(response.status_code, 200)\n",
    "        self.assertEqual(response.json, {\"message\": \"Hello, 12345!\"})\n",
    "\n",
    "    def test_long_name(self):\n",
    "        long_name = \"a\" * 1000\n",
    "        response = self.app.get(f'/api/greet/{long_name}')\n",
    "        self.assertEqual(response.status_code, 200)\n",
    "        self.assertEqual(response.json, {\"message\": f\"Hello, {long_name}!\"})\n",
    "\n",
    "    def test_html_injection(self):\n",
    "        html_name = \"<script>alert('test')</script>\"\n",
    "        response = self.app.get(f'/api/greet/{html_name}')\n",
    "        self.assertEqual(response.status_code, 200)\n",
    "        self.assertEqual(response.json, {\"message\": f\"Hello, {html_name}!\"})\n",
    "\n",
    "    def test_json_response_format(self):\n",
    "        response = self.app.get('/api/greet/John')\n",
    "        self.assertEqual(response.headers['Content-Type'], 'application/json')\n",
    "        self.assertTrue(response.json)\n",
    "\n",
    "if __name__ == '__main__':\n",
    "    unittest.main(argv=[''], verbosity=2, exit=False)"
   ],
   "metadata": {
    "colab": {
     "base_uri": "https://localhost:8080/"
    },
    "id": "nQbJaE37OJ7O",
    "executionInfo": {
     "status": "ok",
     "timestamp": 1721397472804,
     "user_tz": 420,
     "elapsed": 428,
     "user": {
      "displayName": "Laurence Moroney",
      "userId": "17858265307580721507"
     }
    },
    "outputId": "20d94e51-39e5-4547-8ce3-74aa4f21dd39",
    "ExecuteTime": {
     "end_time": "2025-01-07T08:48:59.884284Z",
     "start_time": "2025-01-07T08:48:59.843472Z"
    }
   },
   "execution_count": 14,
   "outputs": [
    {
     "name": "stderr",
     "output_type": "stream",
     "text": [
      "test_basic_greeting (__main__.TestFlaskAPI.test_basic_greeting) ... ok\n",
      "test_empty_name (__main__.TestFlaskAPI.test_empty_name) ... ok\n",
      "test_html_injection (__main__.TestFlaskAPI.test_html_injection) ... FAIL\n",
      "test_json_response_format (__main__.TestFlaskAPI.test_json_response_format) ... ok\n",
      "test_long_name (__main__.TestFlaskAPI.test_long_name) ... ok\n",
      "test_numeric_name (__main__.TestFlaskAPI.test_numeric_name) ... ok\n",
      "test_special_characters (__main__.TestFlaskAPI.test_special_characters) ... ok\n",
      "test_url_encoding (__main__.TestFlaskAPI.test_url_encoding) ... ok\n",
      "\n",
      "======================================================================\n",
      "FAIL: test_html_injection (__main__.TestFlaskAPI.test_html_injection)\n",
      "----------------------------------------------------------------------\n",
      "Traceback (most recent call last):\n",
      "  File \"C:\\Users\\bayram\\AppData\\Local\\Temp\\ipykernel_22096\\2054321482.py\", line 49, in test_html_injection\n",
      "    self.assertEqual(response.status_code, 200)\n",
      "AssertionError: 404 != 200\n",
      "\n",
      "----------------------------------------------------------------------\n",
      "Ran 8 tests in 0.024s\n",
      "\n",
      "FAILED (failures=1)\n"
     ]
    }
   ]
  }
 ]
}
