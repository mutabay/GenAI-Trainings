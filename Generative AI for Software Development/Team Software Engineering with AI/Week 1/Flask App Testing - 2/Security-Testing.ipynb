{
 "nbformat": 4,
 "nbformat_minor": 0,
 "metadata": {
  "colab": {
   "provenance": []
  },
  "kernelspec": {
   "name": "python3",
   "language": "python",
   "display_name": "Python 3 (ipykernel)"
  },
  "language_info": {
   "name": "python"
  }
 },
 "cells": [
  {
   "cell_type": "code",
   "source": [
    "!pip install flask_sqlalchemy"
   ],
   "metadata": {
    "colab": {
     "base_uri": "https://localhost:8080/"
    },
    "id": "vOD-mUKrUQEQ",
    "executionInfo": {
     "status": "ok",
     "timestamp": 1721451973409,
     "user_tz": 420,
     "elapsed": 23502,
     "user": {
      "displayName": "Laurence Moroney",
      "userId": "17858265307580721507"
     }
    },
    "outputId": "ef9b5a23-c98d-4221-9006-8c9918b286aa",
    "ExecuteTime": {
     "end_time": "2025-01-07T09:48:03.578933Z",
     "start_time": "2025-01-07T09:47:58.680298Z"
    }
   },
   "execution_count": 15,
   "outputs": [
    {
     "name": "stdout",
     "output_type": "stream",
     "text": [
      "Requirement already satisfied: flask_sqlalchemy in c:\\users\\bayram\\appdata\\local\\programs\\python\\python311\\lib\\site-packages (3.1.1)\n",
      "Requirement already satisfied: flask>=2.2.5 in c:\\users\\bayram\\appdata\\local\\programs\\python\\python311\\lib\\site-packages (from flask_sqlalchemy) (3.0.2)\n",
      "Requirement already satisfied: sqlalchemy>=2.0.16 in c:\\users\\bayram\\appdata\\local\\programs\\python\\python311\\lib\\site-packages (from flask_sqlalchemy) (2.0.36)\n",
      "Requirement already satisfied: Werkzeug>=3.0.0 in c:\\users\\bayram\\appdata\\local\\programs\\python\\python311\\lib\\site-packages (from flask>=2.2.5->flask_sqlalchemy) (3.0.1)\n",
      "Requirement already satisfied: Jinja2>=3.1.2 in c:\\users\\bayram\\appdata\\local\\programs\\python\\python311\\lib\\site-packages (from flask>=2.2.5->flask_sqlalchemy) (3.1.5)\n",
      "Requirement already satisfied: itsdangerous>=2.1.2 in c:\\users\\bayram\\appdata\\local\\programs\\python\\python311\\lib\\site-packages (from flask>=2.2.5->flask_sqlalchemy) (2.1.2)\n",
      "Requirement already satisfied: click>=8.1.3 in c:\\users\\bayram\\appdata\\local\\programs\\python\\python311\\lib\\site-packages (from flask>=2.2.5->flask_sqlalchemy) (8.1.7)\n",
      "Requirement already satisfied: blinker>=1.6.2 in c:\\users\\bayram\\appdata\\local\\programs\\python\\python311\\lib\\site-packages (from flask>=2.2.5->flask_sqlalchemy) (1.7.0)\n",
      "Requirement already satisfied: typing-extensions>=4.6.0 in c:\\users\\bayram\\appdata\\local\\programs\\python\\python311\\lib\\site-packages (from sqlalchemy>=2.0.16->flask_sqlalchemy) (4.12.2)\n",
      "Requirement already satisfied: greenlet!=0.4.17 in c:\\users\\bayram\\appdata\\local\\programs\\python\\python311\\lib\\site-packages (from sqlalchemy>=2.0.16->flask_sqlalchemy) (3.0.1)\n",
      "Requirement already satisfied: colorama in c:\\users\\bayram\\appdata\\roaming\\python\\python311\\site-packages (from click>=8.1.3->flask>=2.2.5->flask_sqlalchemy) (0.4.6)\n",
      "Requirement already satisfied: MarkupSafe>=2.0 in c:\\users\\bayram\\appdata\\local\\programs\\python\\python311\\lib\\site-packages (from Jinja2>=3.1.2->flask>=2.2.5->flask_sqlalchemy) (2.1.4)\n"
     ]
    },
    {
     "name": "stderr",
     "output_type": "stream",
     "text": [
      "\n",
      "[notice] A new release of pip is available: 23.2.1 -> 24.3.1\n",
      "[notice] To update, run: C:\\Users\\bayram\\AppData\\Local\\Programs\\Python\\Python311\\python.exe -m pip install --upgrade pip\n"
     ]
    }
   ]
  },
  {
   "cell_type": "markdown",
   "source": [
    "## Demo"
   ],
   "metadata": {
    "collapsed": false
   }
  },
  {
   "cell_type": "code",
   "source": [
    "from flask import Flask, request, jsonify\n",
    "from flask_sqlalchemy import SQLAlchemy\n",
    "from marshmallow import Schema, fields, validate, ValidationError\n",
    "from werkzeug.security import generate_password_hash, check_password_hash\n",
    "import threading\n",
    "\n",
    "app = Flask(__name__)\n",
    "app.config['SQLALCHEMY_DATABASE_URI'] = 'sqlite:///users.db'\n",
    "app.config['SQLALCHEMY_TRACK_MODIFICATIONS'] = False\n",
    "db = SQLAlchemy(app)\n",
    "\n",
    "class User(db.Model):\n",
    "    id = db.Column(db.Integer, primary_key=True)\n",
    "    username = db.Column(db.String(80), unique=True, nullable=False)\n",
    "    password = db.Column(db.String(120), nullable=False)\n",
    "\n",
    "class UserSchema(Schema):\n",
    "    id = fields.Int(dump_only=True)\n",
    "    username = fields.Str(required=True, validate=validate.Length(min=1, max=80))\n",
    "    password = fields.Str(required=True, validate=validate.Length(min=6))\n",
    "\n",
    "user_schema = UserSchema()\n",
    "users_schema = UserSchema(many=True)\n",
    "\n",
    "with app.app_context():\n",
    "    db.create_all()\n",
    "\n",
    "@app.route('/')\n",
    "def home():\n",
    "    return \"Welcome to the Security Testing Demo!\"\n",
    "\n",
    "@app.route('/users', methods=['GET'])\n",
    "def get_users():\n",
    "    try:\n",
    "        users = User.query.all()\n",
    "        result =  users_schema.dump(users)\n",
    "        return jsonify(result)\n",
    "    except Exception as e:\n",
    "        return jsonify({\"message\": \"An error occurred while fetching users\", \"error\": str(e)}), 500\n",
    "\n",
    "\n",
    "@app.route('/user/<int:id>', methods=['GET'])\n",
    "def get_user(id):\n",
    "    user = User.query.get(id)\n",
    "    if user:\n",
    "      result = user_schema.dump(user)\n",
    "      return jsonify(result)\n",
    "    return jsonify({\"message\": \"User not found\"}), 404\n",
    "\n",
    "@app.route('/user', methods=['POST'])\n",
    "def add_user():\n",
    "    data = request.get_json()\n",
    "    errors = user_schema.validate(data)\n",
    "    if errors:\n",
    "        return jsonify(errors), 400\n",
    "\n",
    "    hashed_password = generate_password_hash(data['password'])\n",
    "    new_user = User(username=data['username'], password=hashed_password)\n",
    "    db.session.add(new_user)\n",
    "    db.session.commit()\n",
    "    return jsonify({\"message\": \"User added successfully\"}), 201\n",
    "\n",
    "@app.route('/user/<int:id>', methods=['PUT'])\n",
    "def update_user(id):\n",
    "    data = request.get_json()\n",
    "    errors = user_schema.validate(data)\n",
    "    if errors:\n",
    "        return jsonify(errors), 400\n",
    "\n",
    "    user = User.query.get(id)\n",
    "    if user:\n",
    "        user.username = data['username']\n",
    "        user.password = generate_password_hash(data['password'])\n",
    "        db.session.commit()\n",
    "        return jsonify({\"message\": \"User updated successfully\"})\n",
    "    return jsonify({\"message\": \"User not found\"}), 404\n",
    "\n",
    "@app.route('/user/<int:id>', methods=['DELETE'])\n",
    "def delete_user(id):\n",
    "    user = User.query.get(id)\n",
    "    if user:\n",
    "        db.session.delete(user)\n",
    "        db.session.commit()\n",
    "        return jsonify({\"message\": \"User deleted successfully\"})\n",
    "    return jsonify({\"message\": \"User not found\"}), 404\n",
    "\n",
    "threading.Thread(target=app.run, kwargs={'host':'0.0.0.0','port':5000}).start()\n"
   ],
   "metadata": {
    "colab": {
     "base_uri": "https://localhost:8080/"
    },
    "id": "9rYIbukaTJuN",
    "executionInfo": {
     "status": "ok",
     "timestamp": 1721452136778,
     "user_tz": 420,
     "elapsed": 894,
     "user": {
      "displayName": "Laurence Moroney",
      "userId": "17858265307580721507"
     }
    },
    "outputId": "cd8046b5-6aec-42e0-b9d1-a1dcf1464711",
    "ExecuteTime": {
     "end_time": "2025-01-07T12:56:50.770954Z",
     "start_time": "2025-01-07T12:56:50.751594Z"
    }
   },
   "execution_count": 64,
   "outputs": [
    {
     "name": "stdout",
     "output_type": "stream",
     "text": [
      " * Serving Flask app '__main__'\n",
      " * Debug mode: off\n"
     ]
    }
   ]
  },
  {
   "cell_type": "code",
   "source": [
    "!curl -X GET http://127.0.0.1:5000/users"
   ],
   "metadata": {
    "colab": {
     "base_uri": "https://localhost:8080/"
    },
    "id": "eG1_y8mxTdQb",
    "executionInfo": {
     "status": "ok",
     "timestamp": 1721452233676,
     "user_tz": 420,
     "elapsed": 323,
     "user": {
      "displayName": "Laurence Moroney",
      "userId": "17858265307580721507"
     }
    },
    "outputId": "88c7ccae-9267-4728-d587-dfe0523d798d",
    "ExecuteTime": {
     "end_time": "2025-01-07T12:56:51.874717Z",
     "start_time": "2025-01-07T12:56:51.830460Z"
    }
   },
   "execution_count": 65,
   "outputs": [
    {
     "name": "stderr",
     "output_type": "stream",
     "text": [
      "[2025-01-07 13:56:51,856] ERROR in app: Exception on /users [GET]\n",
      "Traceback (most recent call last):\n",
      "  File \"C:\\Users\\bayram\\AppData\\Local\\Programs\\Python\\Python311\\Lib\\site-packages\\flask\\app.py\", line 1463, in wsgi_app\n",
      "    response = self.full_dispatch_request()\n",
      "               ^^^^^^^^^^^^^^^^^^^^^^^^^^^^\n",
      "  File \"C:\\Users\\bayram\\AppData\\Local\\Programs\\Python\\Python311\\Lib\\site-packages\\flask\\app.py\", line 872, in full_dispatch_request\n",
      "    rv = self.handle_user_exception(e)\n",
      "         ^^^^^^^^^^^^^^^^^^^^^^^^^^^^^\n",
      "  File \"C:\\Users\\bayram\\AppData\\Local\\Programs\\Python\\Python311\\Lib\\site-packages\\flask\\app.py\", line 870, in full_dispatch_request\n",
      "    rv = self.dispatch_request()\n",
      "         ^^^^^^^^^^^^^^^^^^^^^^^\n",
      "  File \"C:\\Users\\bayram\\AppData\\Local\\Programs\\Python\\Python311\\Lib\\site-packages\\flask\\app.py\", line 855, in dispatch_request\n",
      "    return self.ensure_sync(self.view_functions[rule.endpoint])(**view_args)  # type: ignore[no-any-return]\n",
      "           ^^^^^^^^^^^^^^^^^^^^^^^^^^^^^^^^^^^^^^^^^^^^^^^^^^^^^^^^^^^^^^^^^\n",
      "  File \"C:\\Users\\bayram\\AppData\\Local\\Temp\\ipykernel_4240\\3906710096.py\", line 24, in get_users\n",
      "    users = User.query.all()\n",
      "            ^^^^^^^^^^^^^^^^\n",
      "  File \"C:\\Users\\bayram\\AppData\\Local\\Programs\\Python\\Python311\\Lib\\site-packages\\sqlalchemy\\orm\\query.py\", line 2673, in all\n",
      "    return self._iter().all()  # type: ignore\n",
      "           ^^^^^^^^^^^^\n",
      "  File \"C:\\Users\\bayram\\AppData\\Local\\Programs\\Python\\Python311\\Lib\\site-packages\\sqlalchemy\\orm\\query.py\", line 2827, in _iter\n",
      "    result: Union[ScalarResult[_T], Result[_T]] = self.session.execute(\n",
      "                                                  ^^^^^^^^^^^^^^^^^^^^^\n",
      "  File \"C:\\Users\\bayram\\AppData\\Local\\Programs\\Python\\Python311\\Lib\\site-packages\\sqlalchemy\\orm\\session.py\", line 2362, in execute\n",
      "    return self._execute_internal(\n",
      "           ^^^^^^^^^^^^^^^^^^^^^^^\n",
      "  File \"C:\\Users\\bayram\\AppData\\Local\\Programs\\Python\\Python311\\Lib\\site-packages\\sqlalchemy\\orm\\session.py\", line 2235, in _execute_internal\n",
      "    bind = self.get_bind(**bind_arguments)\n",
      "           ^^^^^^^^^^^^^^^^^^^^^^^^^^^^^^^\n",
      "  File \"C:\\Users\\bayram\\AppData\\Local\\Programs\\Python\\Python311\\Lib\\site-packages\\flask_sqlalchemy\\session.py\", line 53, in get_bind\n",
      "    engines = self._db.engines\n",
      "              ^^^^^^^^^^^^^^^^\n",
      "  File \"C:\\Users\\bayram\\AppData\\Local\\Programs\\Python\\Python311\\Lib\\site-packages\\flask_sqlalchemy\\extension.py\", line 690, in engines\n",
      "    raise RuntimeError(\n",
      "RuntimeError: The current Flask app is not registered with this 'SQLAlchemy' instance. Did you forget to call 'init_app', or did you create multiple 'SQLAlchemy' instances?\n",
      "127.0.0.1 - - [07/Jan/2025 13:56:51] \"GET /users HTTP/1.1\" 500 -\n"
     ]
    },
    {
     "name": "stdout",
     "output_type": "stream",
     "text": [
      "<!doctype html>\n",
      "<html lang=en>\n",
      "<title>500 Internal Server Error</title>\n",
      "<h1>Internal Server Error</h1>\n",
      "<p>The server encountered an internal error and was unable to complete your request. Either the server is overloaded or there is an error in the application.</p>\n"
     ]
    },
    {
     "name": "stderr",
     "output_type": "stream",
     "text": [
      "  % Total    % Received % Xferd  Average Speed   Time    Time     Time  Current\n",
      "                                 Dload  Upload   Total   Spent    Left  Speed\n",
      "\n",
      "  0     0    0     0    0     0      0      0 --:--:-- --:--:-- --:--:--     0\n",
      "100   265  100   265    0     0  24014      0 --:--:-- --:--:-- --:--:-- 24090\n"
     ]
    }
   ]
  },
  {
   "cell_type": "code",
   "outputs": [
    {
     "name": "stderr",
     "output_type": "stream",
     "text": [
      "C:\\Users\\bayram\\AppData\\Local\\Temp\\ipykernel_4240\\3906710096.py:29: LegacyAPIWarning: The Query.get() method is considered legacy as of the 1.x series of SQLAlchemy and becomes a legacy construct in 2.0. The method is now available as Session.get() (deprecated since: 2.0) (Background on SQLAlchemy 2.0 at: https://sqlalche.me/e/b8d9)\n",
      "  user = User.query.get(id)\n",
      "127.0.0.1 - - [07/Jan/2025 13:51:03] \"GET /user/1 HTTP/1.1\" 404 -\n"
     ]
    },
    {
     "name": "stdout",
     "output_type": "stream",
     "text": [
      "{\"message\":\"User not found\"}\n"
     ]
    },
    {
     "name": "stderr",
     "output_type": "stream",
     "text": [
      "  % Total    % Received % Xferd  Average Speed   Time    Time     Time  Current\n",
      "                                 Dload  Upload   Total   Spent    Left  Speed\n",
      "\n",
      "  0     0    0     0    0     0      0      0 --:--:-- --:--:-- --:--:--     0\n",
      "  0    29    0     0    0     0      0      0 --:--:-- --:--:-- --:--:--     0\n",
      "100    29  100    29    0     0   1038      0 --:--:-- --:--:-- --:--:--  1035\n"
     ]
    }
   ],
   "source": [
    "!curl -X GET http://127.0.0.1:5000/user/1"
   ],
   "metadata": {
    "collapsed": false,
    "ExecuteTime": {
     "end_time": "2025-01-07T12:51:03.552780Z",
     "start_time": "2025-01-07T12:51:03.482968Z"
    }
   },
   "execution_count": 53
  },
  {
   "cell_type": "code",
   "source": [
    "!curl -X POST http://localhost:5000/user -H \"Content-Type: application/json\" -d '{\"username\":\"testuser\",\"password\":\"securepassword\"}'\n"
   ],
   "metadata": {
    "colab": {
     "base_uri": "https://localhost:8080/"
    },
    "id": "d-kTQBl8V65G",
    "executionInfo": {
     "status": "ok",
     "timestamp": 1721452189201,
     "user_tz": 420,
     "elapsed": 161,
     "user": {
      "displayName": "Laurence Moroney",
      "userId": "17858265307580721507"
     }
    },
    "outputId": "baba763a-11d8-4446-c126-6ce53edd5d2b",
    "ExecuteTime": {
     "end_time": "2025-01-07T12:55:07.373917Z",
     "start_time": "2025-01-07T12:55:07.092183Z"
    }
   },
   "execution_count": 58,
   "outputs": [
    {
     "name": "stderr",
     "output_type": "stream",
     "text": [
      "127.0.0.1 - - [07/Jan/2025 13:55:07] \"POST /user HTTP/1.1\" 400 -\n"
     ]
    },
    {
     "name": "stdout",
     "output_type": "stream",
     "text": [
      "<!doctype html>\n",
      "<html lang=en>\n",
      "<title>400 Bad Request</title>\n",
      "<h1>Bad Request</h1>\n",
      "<p>The browser (or proxy) sent a request that this server could not understand.</p>\n"
     ]
    },
    {
     "name": "stderr",
     "output_type": "stream",
     "text": [
      "  % Total    % Received % Xferd  Average Speed   Time    Time     Time  Current\n",
      "                                 Dload  Upload   Total   Spent    Left  Speed\n",
      "\n",
      "  0     0    0     0    0     0      0      0 --:--:-- --:--:-- --:--:--     0\n",
      "100   212  100   167  100    45    691    186 --:--:-- --:--:-- --:--:--   879\n"
     ]
    }
   ]
  },
  {
   "cell_type": "code",
   "source": [
    "!curl -X PUT http://localhost:5000/user/1 -H \"Content-Type: application/json\" -d '{\"username\":\"testuser\",\"password\":\"newsecurepassword\"}'"
   ],
   "metadata": {
    "colab": {
     "base_uri": "https://localhost:8080/"
    },
    "id": "tP6GUjgnWmci",
    "executionInfo": {
     "status": "ok",
     "timestamp": 1721452213626,
     "user_tz": 420,
     "elapsed": 350,
     "user": {
      "displayName": "Laurence Moroney",
      "userId": "17858265307580721507"
     }
    },
    "outputId": "e476214d-0495-4159-d84a-ad1f3d89b834",
    "ExecuteTime": {
     "end_time": "2025-01-07T12:51:06.806941Z",
     "start_time": "2025-01-07T12:51:06.531882Z"
    }
   },
   "execution_count": 55,
   "outputs": [
    {
     "name": "stderr",
     "output_type": "stream",
     "text": [
      "127.0.0.1 - - [07/Jan/2025 13:51:06] \"PUT /user/1 HTTP/1.1\" 400 -\n"
     ]
    },
    {
     "name": "stdout",
     "output_type": "stream",
     "text": [
      "<!doctype html>\n",
      "<html lang=en>\n",
      "<title>400 Bad Request</title>\n",
      "<h1>Bad Request</h1>\n",
      "<p>The browser (or proxy) sent a request that this server could not understand.</p>\n"
     ]
    },
    {
     "name": "stderr",
     "output_type": "stream",
     "text": [
      "  % Total    % Received % Xferd  Average Speed   Time    Time     Time  Current\n",
      "                                 Dload  Upload   Total   Spent    Left  Speed\n",
      "\n",
      "  0     0    0     0    0     0      0      0 --:--:-- --:--:-- --:--:--     0\n",
      "100   215  100   167  100    48    701    201 --:--:-- --:--:-- --:--:--   907\n"
     ]
    }
   ]
  },
  {
   "cell_type": "code",
   "source": [
    "!curl -X DELETE http://localhost:5000/user/1"
   ],
   "metadata": {
    "colab": {
     "base_uri": "https://localhost:8080/"
    },
    "id": "qOhUQjf2WzQi",
    "executionInfo": {
     "status": "ok",
     "timestamp": 1721452228173,
     "user_tz": 420,
     "elapsed": 348,
     "user": {
      "displayName": "Laurence Moroney",
      "userId": "17858265307580721507"
     }
    },
    "outputId": "d23920d8-423b-447c-a87c-2cddc738736c",
    "ExecuteTime": {
     "end_time": "2025-01-07T12:51:07.640971Z",
     "start_time": "2025-01-07T12:51:07.386345Z"
    }
   },
   "execution_count": 56,
   "outputs": [
    {
     "name": "stderr",
     "output_type": "stream",
     "text": [
      "C:\\Users\\bayram\\AppData\\Local\\Temp\\ipykernel_4240\\3906710096.py:55: LegacyAPIWarning: The Query.get() method is considered legacy as of the 1.x series of SQLAlchemy and becomes a legacy construct in 2.0. The method is now available as Session.get() (deprecated since: 2.0) (Background on SQLAlchemy 2.0 at: https://sqlalche.me/e/b8d9)\n",
      "  user = User.query.get(id)\n",
      "127.0.0.1 - - [07/Jan/2025 13:51:07] \"DELETE /user/1 HTTP/1.1\" 404 -\n"
     ]
    },
    {
     "name": "stdout",
     "output_type": "stream",
     "text": [
      "{\"message\":\"User not found\"}\n"
     ]
    },
    {
     "name": "stderr",
     "output_type": "stream",
     "text": [
      "  % Total    % Received % Xferd  Average Speed   Time    Time     Time  Current\n",
      "                                 Dload  Upload   Total   Spent    Left  Speed\n",
      "\n",
      "  0     0    0     0    0     0      0      0 --:--:-- --:--:-- --:--:--     0\n",
      "  0     0    0     0    0     0      0      0 --:--:-- --:--:-- --:--:--     0\n",
      "100    29  100    29    0     0    134      0 --:--:-- --:--:-- --:--:--   134\n"
     ]
    }
   ]
  },
  {
   "cell_type": "code",
   "source": [
    "import unittest\n",
    "import requests\n",
    "import json\n",
    "\n",
    "BASE_URL = \"http://127.0.0.1:5000\"\n",
    "\n",
    "class FlaskAppTestCase(unittest.TestCase):\n",
    "\n",
    "    def test_sql_injection(self):\n",
    "        payload = {\"username\": \"testuser'; DROP TABLE users; --\", \"password\": \"testpass\"}\n",
    "        response = requests.post(f\"{BASE_URL}/user\", json=payload)\n",
    "        self.assertNotEqual(response.status_code, 201, \"SQL Injection vulnerability detected\")\n",
    "\n",
    "    def test_xss(self):\n",
    "        payload = {\"username\": \"<script>alert('XSS');</script>\", \"password\": \"testpass\"}\n",
    "        response = requests.post(f\"{BASE_URL}/user\", json=payload)\n",
    "        self.assertNotIn(\"<script>\", response.text, \"XSS vulnerability detected\")\n",
    "\n",
    "    def test_insecure_password_storage(self):\n",
    "        payload = {\"username\": \"testuser\", \"password\": \"testpass\"}\n",
    "        response = requests.post(f\"{BASE_URL}/user\", json=payload)\n",
    "        self.assertEqual(response.status_code, 201)\n",
    "        user_id = response.json()[\"id\"]\n",
    "        response = requests.get(f\"{BASE_URL}/user/{user_id}\")\n",
    "        self.assertNotIn(\"testpass\", response.json()[\"password\"], \"Insecure password storage detected\")\n",
    "\n",
    "    def test_authentication(self):\n",
    "        response = requests.get(f\"{BASE_URL}/users\")\n",
    "        self.assertEqual(response.status_code, 401, \"No authentication detected\")\n",
    "\n",
    "    def test_authorization(self):\n",
    "        payload = {\"username\": \"admin\", \"password\": \"adminpass\"}\n",
    "        response = requests.post(f\"{BASE_URL}/user\", json=payload)\n",
    "        user_id = response.json()[\"id\"]\n",
    "        payload = {\"username\": \"normaluser\", \"password\": \"userpass\"}\n",
    "        response = requests.post(f\"{BASE_URL}/user\", json=payload)\n",
    "        response = requests.put(f\"{BASE_URL}/user/{user_id}\", json={\"username\": \"hacked\", \"password\": \"hackedpass\"})\n",
    "        self.assertEqual(response.status_code, 403, \"No authorization detected\")\n",
    "\n",
    "    def test_insecure_direct_object_references(self):\n",
    "        payload = {\"username\": \"testuser1\", \"password\": \"testpass\"}\n",
    "        response = requests.post(f\"{BASE_URL}/user\", json=payload)\n",
    "        user_id = response.json()[\"id\"]\n",
    "        response = requests.get(f\"{BASE_URL}/user/{user_id}\")\n",
    "        self.assertNotEqual(response.status_code, 200, \"Insecure direct object reference detected\")\n",
    "\n",
    "    def test_data_exposure(self):\n",
    "        response = requests.get(f\"{BASE_URL}/users\")\n",
    "        self.assertNotIn(\"password\", response.json()[0], \"Sensitive data exposure detected\")\n",
    "\n",
    "unittest.main()"
   ],
   "metadata": {
    "colab": {
     "base_uri": "https://localhost:8080/",
     "height": 311
    },
    "id": "nPMh5eJ9gtKX",
    "executionInfo": {
     "status": "error",
     "timestamp": 1721419493529,
     "user_tz": 180,
     "elapsed": 319,
     "user": {
      "displayName": "Lucas Coutinho",
      "userId": "17134509355433454861"
     }
    },
    "outputId": "0633484b-e9dc-4823-9649-9135c49b4605",
    "ExecuteTime": {
     "end_time": "2025-01-07T12:51:08.286728Z",
     "start_time": "2025-01-07T12:51:08.256430Z"
    }
   },
   "execution_count": 57,
   "outputs": [
    {
     "name": "stderr",
     "output_type": "stream",
     "text": [
      "E\n",
      "======================================================================\n",
      "ERROR: C:\\Users\\bayram\\AppData\\Roaming\\jupyter\\runtime\\kernel-4d585098-27ee-4d1c-8507-20e137179edb (unittest.loader._FailedTest.C:\\Users\\bayram\\AppData\\Roaming\\jupyter\\runtime\\kernel-4d585098-27ee-4d1c-8507-20e137179edb)\n",
      "----------------------------------------------------------------------\n",
      "AttributeError: module '__main__' has no attribute 'C:\\Users\\bayram\\AppData\\Roaming\\jupyter\\runtime\\kernel-4d585098-27ee-4d1c-8507-20e137179edb'\n",
      "\n",
      "----------------------------------------------------------------------\n",
      "Ran 1 test in 0.002s\n",
      "\n",
      "FAILED (errors=1)\n"
     ]
    },
    {
     "ename": "SystemExit",
     "evalue": "True",
     "output_type": "error",
     "traceback": [
      "An exception has occurred, use %tb to see the full traceback.\n",
      "\u001B[1;31mSystemExit\u001B[0m\u001B[1;31m:\u001B[0m True\n"
     ]
    },
    {
     "name": "stderr",
     "output_type": "stream",
     "text": [
      "C:\\Users\\bayram\\AppData\\Roaming\\Python\\Python311\\site-packages\\IPython\\core\\interactiveshell.py:3534: UserWarning: To exit: use 'exit', 'quit', or Ctrl-D.\n",
      "  warn(\"To exit: use 'exit', 'quit', or Ctrl-D.\", stacklevel=1)\n"
     ]
    }
   ]
  },
  {
   "cell_type": "code",
   "source": [],
   "metadata": {
    "id": "bUZskhdaiLgU"
   },
   "execution_count": null,
   "outputs": []
  }
 ]
}
