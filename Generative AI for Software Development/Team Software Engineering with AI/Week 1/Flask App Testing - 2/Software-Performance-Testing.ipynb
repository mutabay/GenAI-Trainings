{
 "nbformat": 4,
 "nbformat_minor": 0,
 "metadata": {
  "colab": {
   "provenance": [],
   "authorship_tag": "ABX9TyNkrT5Jl+R5OS7nYZnRYW5j"
  },
  "kernelspec": {
   "name": "python3",
   "language": "python",
   "display_name": "Python 3 (ipykernel)"
  },
  "language_info": {
   "name": "python"
  }
 },
 "cells": [
  {
   "cell_type": "code",
   "source": [
    "import time\n",
    "import timeit\n",
    "import cProfile\n",
    "def is_prime(n):\n",
    "    if n <= 1:\n",
    "        return False\n",
    "    for i in range(2, n):\n",
    "        if n % i == 0:\n",
    "            return False\n",
    "    return True\n",
    "\n",
    "def sum_of_primes_naive(numbers):\n",
    "    total = 0\n",
    "    for number in numbers:\n",
    "        if is_prime(number):\n",
    "            total += number\n",
    "    return total\n"
   ],
   "metadata": {
    "id": "62kqP_1Gylfo",
    "executionInfo": {
     "status": "ok",
     "timestamp": 1717883839717,
     "user_tz": 420,
     "elapsed": 188,
     "user": {
      "displayName": "Laurence Moroney",
      "userId": "17858265307580721507"
     }
    },
    "ExecuteTime": {
     "end_time": "2025-01-07T09:28:42.810997Z",
     "start_time": "2025-01-07T09:28:42.802298Z"
    }
   },
   "execution_count": 1,
   "outputs": []
  },
  {
   "cell_type": "code",
   "source": [
    "# Generate a list of numbers\n",
    "numbers = list(range(1, 100000))\n",
    "sum_of_primes_naive(numbers)"
   ],
   "metadata": {
    "colab": {
     "base_uri": "https://localhost:8080/"
    },
    "id": "iMLK38E_1oxU",
    "executionInfo": {
     "status": "ok",
     "timestamp": 1717884269856,
     "user_tz": 420,
     "elapsed": 41199,
     "user": {
      "displayName": "Laurence Moroney",
      "userId": "17858265307580721507"
     }
    },
    "outputId": "b803f404-401a-4488-faf2-9f6160ef64d4",
    "ExecuteTime": {
     "end_time": "2025-01-07T09:29:07.477549Z",
     "start_time": "2025-01-07T09:28:44.664900Z"
    }
   },
   "execution_count": 2,
   "outputs": [
    {
     "data": {
      "text/plain": "454396537"
     },
     "execution_count": 2,
     "metadata": {},
     "output_type": "execute_result"
    }
   ]
  },
  {
   "cell_type": "code",
   "source": [
    "# Measure time using timeit\n",
    "execution_time = timeit.timeit('sum_of_primes_naive(numbers)', globals=globals(), number=1)\n",
    "print(f\"Execution time: {execution_time} seconds\")"
   ],
   "metadata": {
    "colab": {
     "base_uri": "https://localhost:8080/"
    },
    "id": "8gRZnb8G4P7O",
    "executionInfo": {
     "status": "ok",
     "timestamp": 1717884310085,
     "user_tz": 420,
     "elapsed": 40231,
     "user": {
      "displayName": "Laurence Moroney",
      "userId": "17858265307580721507"
     }
    },
    "outputId": "a07f24d3-6576-4dd1-b8d8-50759ba48a6e",
    "ExecuteTime": {
     "end_time": "2025-01-07T09:30:00.366998Z",
     "start_time": "2025-01-07T09:29:38.710117Z"
    }
   },
   "execution_count": 3,
   "outputs": [
    {
     "name": "stdout",
     "output_type": "stream",
     "text": [
      "Execution time: 21.651438100030646 seconds\n"
     ]
    }
   ]
  },
  {
   "cell_type": "code",
   "source": [
    "get_user_time = timeit.timeit(lambda: sum_of_primes_naive(numbers), number=1)\n",
    "print(f\"Execution time for sum_of_primes: {get_user_time} seconds\")"
   ],
   "metadata": {
    "colab": {
     "base_uri": "https://localhost:8080/"
    },
    "id": "GTcItCtD0u3y",
    "executionInfo": {
     "status": "ok",
     "timestamp": 1717884017573,
     "user_tz": 420,
     "elapsed": 11051,
     "user": {
      "displayName": "Laurence Moroney",
      "userId": "17858265307580721507"
     }
    },
    "outputId": "c4cb77c8-3ba8-4707-f944-f9ac21f8699c",
    "ExecuteTime": {
     "end_time": "2025-01-07T09:30:27.914943Z",
     "start_time": "2025-01-07T09:30:00.369046Z"
    }
   },
   "execution_count": 4,
   "outputs": [
    {
     "name": "stdout",
     "output_type": "stream",
     "text": [
      "Execution time for sum_of_primes: 27.539140000008047 seconds\n"
     ]
    }
   ]
  },
  {
   "cell_type": "code",
   "source": [
    "cProfile.run('sum_of_primes_naive(numbers)')"
   ],
   "metadata": {
    "colab": {
     "base_uri": "https://localhost:8080/"
    },
    "id": "ANFvfM1iywwr",
    "executionInfo": {
     "status": "ok",
     "timestamp": 1717884599707,
     "user_tz": 420,
     "elapsed": 52418,
     "user": {
      "displayName": "Laurence Moroney",
      "userId": "17858265307580721507"
     }
    },
    "outputId": "3fa5ccd1-ec51-4a37-cbde-660d09058f3b",
    "ExecuteTime": {
     "end_time": "2025-01-07T09:31:16.592823Z",
     "start_time": "2025-01-07T09:30:27.917099Z"
    }
   },
   "execution_count": 5,
   "outputs": [
    {
     "name": "stdout",
     "output_type": "stream",
     "text": [
      "         100003 function calls in 48.670 seconds\n",
      "\n",
      "   Ordered by: standard name\n",
      "\n",
      "   ncalls  tottime  percall  cumtime  percall filename:lineno(function)\n",
      "        1    0.045    0.045   48.670   48.670 2632378171.py:12(sum_of_primes_naive)\n",
      "    99999   48.625    0.000   48.625    0.000 2632378171.py:4(is_prime)\n",
      "        1    0.000    0.000   48.670   48.670 <string>:1(<module>)\n",
      "        1    0.000    0.000   48.670   48.670 {built-in method builtins.exec}\n",
      "        1    0.000    0.000    0.000    0.000 {method 'disable' of '_lsprof.Profiler' objects}\n"
     ]
    }
   ]
  },
  {
   "cell_type": "code",
   "source": [
    "import math\n",
    "\n",
    "def is_prime_optimized(n):\n",
    "    if n <= 1:\n",
    "        return False\n",
    "    if n <= 3:\n",
    "        return True\n",
    "    if n % 2 == 0 or n % 3 == 0:\n",
    "        return False\n",
    "    i = 5\n",
    "    while i * i <= n:\n",
    "        if n % i == 0 or n % (i + 2) == 0:\n",
    "            return False\n",
    "        i += 6\n",
    "    return True\n",
    "\n",
    "def sum_of_primes_optimized(numbers):\n",
    "    total = 0\n",
    "    for number in numbers:\n",
    "        if is_prime_optimized(number):\n",
    "            total += number\n",
    "    return total\n",
    "\n",
    "# Measure the time taken by the optimized implementation\n",
    "start_time = time.time()\n",
    "total_optimized = sum_of_primes_optimized(numbers)\n",
    "print(f\"Optimized Implementation: Sum of primes = {total_optimized}, Time taken = {time.time() - start_time} seconds\")\n"
   ],
   "metadata": {
    "colab": {
     "base_uri": "https://localhost:8080/"
    },
    "id": "5mt_SJ74ymKS",
    "executionInfo": {
     "status": "ok",
     "timestamp": 1717885644131,
     "user_tz": 420,
     "elapsed": 205,
     "user": {
      "displayName": "Laurence Moroney",
      "userId": "17858265307580721507"
     }
    },
    "outputId": "57794678-538e-414a-89ce-d8f408a789ac",
    "ExecuteTime": {
     "end_time": "2025-01-07T09:34:04.573907Z",
     "start_time": "2025-01-07T09:34:04.504691Z"
    }
   },
   "execution_count": 6,
   "outputs": [
    {
     "name": "stdout",
     "output_type": "stream",
     "text": [
      "Optimized Implementation: Sum of primes = 454396537, Time taken = 0.06192803382873535 seconds\n"
     ]
    }
   ]
  },
  {
   "cell_type": "code",
   "source": [
    "get_user_time = timeit.timeit(lambda: sum_of_primes_optimized(numbers), number=1)\n",
    "print(f\"Execution time for sum_of_primes: {get_user_time} seconds\")"
   ],
   "metadata": {
    "colab": {
     "base_uri": "https://localhost:8080/"
    },
    "id": "hInww94b6IEU",
    "executionInfo": {
     "status": "ok",
     "timestamp": 1717885646713,
     "user_tz": 420,
     "elapsed": 205,
     "user": {
      "displayName": "Laurence Moroney",
      "userId": "17858265307580721507"
     }
    },
    "outputId": "2d0c27b9-0ee7-4d61-ed1e-7bb0cb4e69b8",
    "ExecuteTime": {
     "end_time": "2025-01-07T09:34:06.940001Z",
     "start_time": "2025-01-07T09:34:06.871141Z"
    }
   },
   "execution_count": 7,
   "outputs": [
    {
     "name": "stdout",
     "output_type": "stream",
     "text": [
      "Execution time for sum_of_primes: 0.06285919999936596 seconds\n"
     ]
    }
   ]
  },
  {
   "cell_type": "code",
   "source": [
    "cProfile.run('sum_of_primes_optimized(numbers)')"
   ],
   "metadata": {
    "colab": {
     "base_uri": "https://localhost:8080/"
    },
    "id": "9nJGMgs-y-YN",
    "executionInfo": {
     "status": "ok",
     "timestamp": 1717885650015,
     "user_tz": 420,
     "elapsed": 477,
     "user": {
      "displayName": "Laurence Moroney",
      "userId": "17858265307580721507"
     }
    },
    "outputId": "6f947452-01b8-4f4b-852e-6e8329ed6b44",
    "ExecuteTime": {
     "end_time": "2025-01-07T09:34:07.824528Z",
     "start_time": "2025-01-07T09:34:07.611747Z"
    }
   },
   "execution_count": 8,
   "outputs": [
    {
     "name": "stdout",
     "output_type": "stream",
     "text": [
      "         100003 function calls in 0.205 seconds\n",
      "\n",
      "   Ordered by: standard name\n",
      "\n",
      "   ncalls  tottime  percall  cumtime  percall filename:lineno(function)\n",
      "        1    0.030    0.030    0.205    0.205 1733213667.py:17(sum_of_primes_optimized)\n",
      "    99999    0.175    0.000    0.175    0.000 1733213667.py:3(is_prime_optimized)\n",
      "        1    0.000    0.000    0.205    0.205 <string>:1(<module>)\n",
      "        1    0.000    0.000    0.205    0.205 {built-in method builtins.exec}\n",
      "        1    0.000    0.000    0.000    0.000 {method 'disable' of '_lsprof.Profiler' objects}\n"
     ]
    }
   ]
  },
  {
   "cell_type": "code",
   "source": [
    "import time\n",
    "import math\n",
    "\n",
    "# Naive primality check\n",
    "def is_prime(n):\n",
    "    if n <= 1:\n",
    "        return False\n",
    "    for i in range(2, n):\n",
    "        if n % i == 0:\n",
    "            return False\n",
    "    return True\n",
    "\n",
    "# Optimized primality check\n",
    "def is_prime_optimized(n):\n",
    "    if n <= 1:\n",
    "        return False\n",
    "    if n <= 3:\n",
    "        return True\n",
    "    if n % 2 == 0 or n % 3 == 0:\n",
    "        return False\n",
    "    i = 5\n",
    "    while i * i <= n:\n",
    "        if n % i == 0 or n % (i + 2) == 0:\n",
    "            return False\n",
    "        i += 6\n",
    "    return True\n",
    "\n",
    "# Naive sum of primes\n",
    "def sum_of_primes_naive(numbers):\n",
    "    total = 0\n",
    "    for number in numbers:\n",
    "        if is_prime(number):\n",
    "            total += number\n",
    "    return total\n",
    "\n",
    "# Optimized sum of primes\n",
    "def sum_of_primes_optimized(numbers):\n",
    "    total = 0\n",
    "    for number in numbers:\n",
    "        if is_prime_optimized(number):\n",
    "            total += number\n",
    "    return total\n",
    "\n",
    "# Generate a list of numbers\n",
    "numbers = list(range(1, 10000))\n",
    "\n",
    "# Measure the time taken by the naive implementation\n",
    "start_time = time.time()\n",
    "total_naive = sum_of_primes_naive(numbers)\n",
    "print(f\"Naive Implementation: Sum of primes = {total_naive}, Time taken = {time.time() - start_time} seconds\")\n",
    "\n",
    "# Measure the time taken by the optimized implementation\n",
    "start_time = time.time()\n",
    "total_optimized = sum_of_primes_optimized(numbers)\n",
    "print(f\"Optimized Implementation: Sum of primes = {total_optimized}, Time taken = {time.time() - start_time} seconds\")\n"
   ],
   "metadata": {
    "colab": {
     "base_uri": "https://localhost:8080/"
    },
    "id": "wsyxgdMYyoEZ",
    "executionInfo": {
     "status": "ok",
     "timestamp": 1717882774096,
     "user_tz": 420,
     "elapsed": 1068,
     "user": {
      "displayName": "Laurence Moroney",
      "userId": "17858265307580721507"
     }
    },
    "outputId": "cde1f184-602d-4b5d-e83a-d39de6ea6718",
    "ExecuteTime": {
     "end_time": "2025-01-07T09:34:08.821257Z",
     "start_time": "2025-01-07T09:34:08.604628Z"
    }
   },
   "execution_count": 9,
   "outputs": [
    {
     "name": "stdout",
     "output_type": "stream",
     "text": [
      "Naive Implementation: Sum of primes = 5736396, Time taken = 0.20750975608825684 seconds\n",
      "Optimized Implementation: Sum of primes = 5736396, Time taken = 0.0023279190063476562 seconds\n"
     ]
    }
   ]
  },
  {
   "cell_type": "code",
   "source": [
    "import time\n",
    "import numpy as np\n",
    "\n",
    "# Naive matrix multiplication\n",
    "def naive_matrix_multiply(A, B):\n",
    "    n = len(A)\n",
    "    C = [[0] * n for _ in range(n)]\n",
    "    for i in range(n):\n",
    "        for j in range(n):\n",
    "            for k in range(n):\n",
    "                C[i][j] += A[i][k] * B[k][j]\n",
    "    return C\n",
    "\n",
    "# Generate random matrices\n",
    "n = 200\n",
    "A = np.random.rand(n, n).tolist()\n",
    "B = np.random.rand(n, n).tolist()\n",
    "\n",
    "start_time = time.time()\n",
    "C_naive = naive_matrix_multiply(A, B)\n",
    "print(f\"Naive Matrix Multiplication Time: {time.time() - start_time} seconds\")\n"
   ],
   "metadata": {
    "colab": {
     "base_uri": "https://localhost:8080/"
    },
    "id": "lu3mWMkex-Jw",
    "executionInfo": {
     "status": "ok",
     "timestamp": 1717882583699,
     "user_tz": 420,
     "elapsed": 2063,
     "user": {
      "displayName": "Laurence Moroney",
      "userId": "17858265307580721507"
     }
    },
    "outputId": "a94b3d35-21a7-4bde-97a0-7a5a15d5aeb6",
    "ExecuteTime": {
     "end_time": "2025-01-07T09:34:11.110755Z",
     "start_time": "2025-01-07T09:34:09.872588Z"
    }
   },
   "execution_count": 10,
   "outputs": [
    {
     "name": "stdout",
     "output_type": "stream",
     "text": [
      "Naive Matrix Multiplication Time: 1.0916364192962646 seconds\n"
     ]
    }
   ]
  },
  {
   "cell_type": "code",
   "source": [
    "cProfile.run('naive_matrix_multiply(A, B)')"
   ],
   "metadata": {
    "colab": {
     "base_uri": "https://localhost:8080/"
    },
    "id": "iOhXSknWyOyf",
    "executionInfo": {
     "status": "ok",
     "timestamp": 1717882668756,
     "user_tz": 420,
     "elapsed": 3582,
     "user": {
      "displayName": "Laurence Moroney",
      "userId": "17858265307580721507"
     }
    },
    "outputId": "78946b0f-a1aa-4a0b-c8f6-5f6761950a76",
    "ExecuteTime": {
     "end_time": "2025-01-07T09:34:30.938799Z",
     "start_time": "2025-01-07T09:34:29.087494Z"
    }
   },
   "execution_count": 11,
   "outputs": [
    {
     "name": "stdout",
     "output_type": "stream",
     "text": [
      "         6 function calls in 1.846 seconds\n",
      "\n",
      "   Ordered by: standard name\n",
      "\n",
      "   ncalls  tottime  percall  cumtime  percall filename:lineno(function)\n",
      "        1    1.845    1.845    1.846    1.846 3138209832.py:5(naive_matrix_multiply)\n",
      "        1    0.001    0.001    0.001    0.001 3138209832.py:7(<listcomp>)\n",
      "        1    0.000    0.000    1.846    1.846 <string>:1(<module>)\n",
      "        1    0.000    0.000    1.846    1.846 {built-in method builtins.exec}\n",
      "        1    0.000    0.000    0.000    0.000 {built-in method builtins.len}\n",
      "        1    0.000    0.000    0.000    0.000 {method 'disable' of '_lsprof.Profiler' objects}\n"
     ]
    }
   ]
  },
  {
   "cell_type": "code",
   "source": [
    "# Optimized matrix multiplication using NumPy\n",
    "start_time = time.time()\n",
    "C_optimized = np.dot(A, B)\n",
    "print(f\"Optimized Matrix Multiplication Time: {time.time() - start_time} seconds\")\n"
   ],
   "metadata": {
    "colab": {
     "base_uri": "https://localhost:8080/"
    },
    "id": "4uANWZQKyDAP",
    "executionInfo": {
     "status": "ok",
     "timestamp": 1717882600535,
     "user_tz": 420,
     "elapsed": 200,
     "user": {
      "displayName": "Laurence Moroney",
      "userId": "17858265307580721507"
     }
    },
    "outputId": "25e71d94-6d87-4473-90b0-f61ab3d2edbf",
    "ExecuteTime": {
     "end_time": "2025-01-07T09:35:22.669277Z",
     "start_time": "2025-01-07T09:35:22.659563Z"
    }
   },
   "execution_count": 12,
   "outputs": [
    {
     "name": "stdout",
     "output_type": "stream",
     "text": [
      "Optimized Matrix Multiplication Time: 0.0068759918212890625 seconds\n"
     ]
    }
   ]
  },
  {
   "cell_type": "code",
   "source": [
    "# Import necessary libraries\n",
    "import random\n",
    "import heapq\n",
    "import timeit\n",
    "import cProfile\n",
    "\n",
    "# Generate a large, sparse directed graph\n",
    "def generate_graph(num_nodes, max_edges_per_node):\n",
    "    graph = {i: [] for i in range(num_nodes)}\n",
    "    for i in range(num_nodes):\n",
    "        num_edges = min_edges_per_node + random.randint(1, (max_edges_per_node-min_edges_per_node))\n",
    "        for _ in range(num_edges):\n",
    "            target = random.randint(0, num_nodes - 1)\n",
    "            weight = int(random.uniform(1, 10))\n",
    "            graph[i].append((target, weight))\n",
    "    return graph\n",
    "\n",
    "# Create a graph with 1000 nodes and up to 10 edges per node\n",
    "num_nodes = 1000\n",
    "min_edges_per_node = 100\n",
    "max_edges_per_node = 900\n",
    "graph = generate_graph(num_nodes, max_edges_per_node)\n",
    "\n",
    "print(\"Graph generation complete.\")\n"
   ],
   "metadata": {
    "colab": {
     "base_uri": "https://localhost:8080/"
    },
    "id": "nhPutqv_s1c7",
    "executionInfo": {
     "status": "ok",
     "timestamp": 1717882264238,
     "user_tz": 420,
     "elapsed": 1056,
     "user": {
      "displayName": "Laurence Moroney",
      "userId": "17858265307580721507"
     }
    },
    "outputId": "e99800f2-d9ee-40de-dc85-6c9b1b0b5d7c",
    "ExecuteTime": {
     "end_time": "2025-01-07T09:35:30.928168Z",
     "start_time": "2025-01-07T09:35:30.452541Z"
    }
   },
   "execution_count": 13,
   "outputs": [
    {
     "name": "stdout",
     "output_type": "stream",
     "text": [
      "Graph generation complete.\n"
     ]
    }
   ]
  },
  {
   "cell_type": "code",
   "source": [
    "print(graph)"
   ],
   "metadata": {
    "colab": {
     "base_uri": "https://localhost:8080/"
    },
    "id": "Unoce-OEtD3Z",
    "executionInfo": {
     "status": "ok",
     "timestamp": 1717882266396,
     "user_tz": 420,
     "elapsed": 210,
     "user": {
      "displayName": "Laurence Moroney",
      "userId": "17858265307580721507"
     }
    },
    "outputId": "730cff43-c7b5-4c3c-dc88-6065fc30b57b",
    "ExecuteTime": {
     "end_time": "2025-01-07T09:35:31.104471Z",
     "start_time": "2025-01-07T09:35:30.934909Z"
    }
   },
   "execution_count": 14,
   "outputs": [
    {
     "name": "stderr",
     "output_type": "stream",
     "text": [
      "IOPub data rate exceeded.\n",
      "The Jupyter server will temporarily stop sending output\n",
      "to the client in order to avoid crashing it.\n",
      "To change this limit, set the config variable\n",
      "`--ServerApp.iopub_data_rate_limit`.\n",
      "\n",
      "Current values:\n",
      "ServerApp.iopub_data_rate_limit=1000000.0 (bytes/sec)\n",
      "ServerApp.rate_limit_window=3.0 (secs)\n",
      "\n"
     ]
    }
   ]
  },
  {
   "cell_type": "code",
   "source": [
    "# Import necessary libraries\n",
    "import random\n",
    "import heapq\n",
    "import timeit\n",
    "import cProfile\n",
    "\n",
    "# Implement Dijkstra's algorithm\n",
    "def dijkstra(graph, start, goal):\n",
    "    queue = [(0, start)]\n",
    "    distances = {node: float('inf') for node in graph}\n",
    "    distances[start] = 0\n",
    "    previous_nodes = {node: None for node in graph}\n",
    "\n",
    "    while queue:\n",
    "        current_distance, current_node = heapq.heappop(queue)\n",
    "\n",
    "        if current_node == goal:\n",
    "            break\n",
    "\n",
    "        if current_distance > distances[current_node]:\n",
    "            continue\n",
    "\n",
    "        for neighbor, weight in graph[current_node]:\n",
    "            distance = current_distance + weight\n",
    "            if distance < distances[neighbor]:\n",
    "                distances[neighbor] = distance\n",
    "                previous_nodes[neighbor] = current_node\n",
    "                heapq.heappush(queue, (distance, neighbor))\n",
    "\n",
    "    path = []\n",
    "    current = goal\n",
    "    while current is not None:\n",
    "        path.append(current)\n",
    "        current = previous_nodes[current]\n",
    "    path.reverse()\n",
    "\n",
    "    if distances[goal] == float('inf'):\n",
    "        return [], float('inf')  # If there's no path to the goal\n",
    "\n",
    "    return path, distances[goal]\n",
    "\n",
    "# Test Dijkstra's algorithm with different start and goal nodes\n",
    "start_node = 0\n",
    "goal_node = 500  # Test with a different goal node\n",
    "\n",
    "print(\"Testing Dijkstra's algorithm...\")\n",
    "path, distance = dijkstra(graph, start_node, goal_node)\n",
    "print(f\"Shortest path from {start_node} to {goal_node}: {path}\")\n",
    "print(f\"Total distance: {distance}\")\n",
    "\n",
    "start_node = 100\n",
    "goal_node = 200  # Test with another different goal node\n",
    "\n",
    "print(\"Testing Dijkstra's algorithm with different start and goal...\")\n",
    "path, distance = dijkstra(graph, start_node, goal_node)\n",
    "print(f\"Shortest path from {start_node} to {goal_node}: {path}\")\n",
    "print(f\"Total distance: {distance}\")\n",
    "\n",
    "start_node = 999\n",
    "goal_node = 0  # Test with goal node at the start\n",
    "\n",
    "print(\"Testing Dijkstra's algorithm with reversed start and goal...\")\n",
    "path, distance = dijkstra(graph, start_node, goal_node)\n",
    "print(f\"Shortest path from {start_node} to {goal_node}: {path}\")\n",
    "print(f\"Total distance: {distance}\")\n"
   ],
   "metadata": {
    "colab": {
     "base_uri": "https://localhost:8080/"
    },
    "id": "Ydub6Lfos4G5",
    "executionInfo": {
     "status": "ok",
     "timestamp": 1717882272164,
     "user_tz": 420,
     "elapsed": 198,
     "user": {
      "displayName": "Laurence Moroney",
      "userId": "17858265307580721507"
     }
    },
    "outputId": "75b7f6ba-a8c8-4748-ad2c-9510bfee923e",
    "ExecuteTime": {
     "end_time": "2025-01-07T09:35:38.011762Z",
     "start_time": "2025-01-07T09:35:37.994705Z"
    }
   },
   "execution_count": 15,
   "outputs": [
    {
     "name": "stdout",
     "output_type": "stream",
     "text": [
      "Testing Dijkstra's algorithm...\n",
      "Shortest path from 0 to 500: [0, 333, 500]\n",
      "Total distance: 2\n",
      "Testing Dijkstra's algorithm with different start and goal...\n",
      "Shortest path from 100 to 200: [100, 200]\n",
      "Total distance: 1\n",
      "Testing Dijkstra's algorithm with reversed start and goal...\n",
      "Shortest path from 999 to 0: [999, 797, 0]\n",
      "Total distance: 2\n"
     ]
    }
   ]
  },
  {
   "cell_type": "code",
   "source": [
    "# Measure execution time of Dijkstra's algorithm\n",
    "dijkstra_time = timeit.timeit(lambda: dijkstra(graph, start_node, goal_node), number=1)\n",
    "print(f\"Execution time for Dijkstra's algorithm: {dijkstra_time} seconds\")\n"
   ],
   "metadata": {
    "colab": {
     "base_uri": "https://localhost:8080/"
    },
    "id": "gxbRU_GTs7YV",
    "executionInfo": {
     "status": "ok",
     "timestamp": 1717882287132,
     "user_tz": 420,
     "elapsed": 206,
     "user": {
      "displayName": "Laurence Moroney",
      "userId": "17858265307580721507"
     }
    },
    "outputId": "d7b8c188-17f6-4e8d-db59-874f76c5b748",
    "ExecuteTime": {
     "end_time": "2025-01-07T09:35:48.170502Z",
     "start_time": "2025-01-07T09:35:48.165060Z"
    }
   },
   "execution_count": 16,
   "outputs": [
    {
     "name": "stdout",
     "output_type": "stream",
     "text": [
      "Execution time for Dijkstra's algorithm: 0.0010985999833792448 seconds\n"
     ]
    }
   ]
  },
  {
   "cell_type": "code",
   "source": [
    "# Do 100 examples\n",
    "for i in range(100):\n",
    "    start_node = random.randint(0, num_nodes - 1)\n",
    "    goal_node = random.randint(0, num_nodes - 1)\n",
    "\n",
    "    # Measure the execution time of the Dijkstra's algorithm\n",
    "    start_time = timeit.default_timer()\n",
    "    path, distance = dijkstra(graph, start_node, goal_node)\n",
    "    end_time = timeit.default_timer()\n",
    "\n",
    "    dijkstra_time = end_time - start_time\n",
    "\n",
    "    print(f\"Execution time for Dijkstra's algorithm: {dijkstra_time:.6f} seconds\")\n",
    "    #print(f\"Shortest path from {start_node} to {goal_node}: {path}\")\n",
    "    #print(f\"Total distance: {distance}\")"
   ],
   "metadata": {
    "colab": {
     "base_uri": "https://localhost:8080/"
    },
    "id": "e8o8ko2wtJwp",
    "executionInfo": {
     "status": "ok",
     "timestamp": 1717882316542,
     "user_tz": 420,
     "elapsed": 4232,
     "user": {
      "displayName": "Laurence Moroney",
      "userId": "17858265307580721507"
     }
    },
    "outputId": "14ca63f7-eac8-4ad1-e15a-82a4fb7cc7be",
    "ExecuteTime": {
     "end_time": "2025-01-07T09:35:50.421987Z",
     "start_time": "2025-01-07T09:35:49.205285Z"
    }
   },
   "execution_count": 17,
   "outputs": [
    {
     "name": "stdout",
     "output_type": "stream",
     "text": [
      "Execution time for Dijkstra's algorithm: 0.015259 seconds\n",
      "Execution time for Dijkstra's algorithm: 0.009077 seconds\n",
      "Execution time for Dijkstra's algorithm: 0.022563 seconds\n",
      "Execution time for Dijkstra's algorithm: 0.010968 seconds\n",
      "Execution time for Dijkstra's algorithm: 0.008960 seconds\n",
      "Execution time for Dijkstra's algorithm: 0.008605 seconds\n",
      "Execution time for Dijkstra's algorithm: 0.017038 seconds\n",
      "Execution time for Dijkstra's algorithm: 0.007943 seconds\n",
      "Execution time for Dijkstra's algorithm: 0.008744 seconds\n",
      "Execution time for Dijkstra's algorithm: 0.012982 seconds\n",
      "Execution time for Dijkstra's algorithm: 0.015867 seconds\n",
      "Execution time for Dijkstra's algorithm: 0.005191 seconds\n",
      "Execution time for Dijkstra's algorithm: 0.010105 seconds\n",
      "Execution time for Dijkstra's algorithm: 0.002514 seconds\n",
      "Execution time for Dijkstra's algorithm: 0.016349 seconds\n",
      "Execution time for Dijkstra's algorithm: 0.009284 seconds\n",
      "Execution time for Dijkstra's algorithm: 0.014044 seconds\n",
      "Execution time for Dijkstra's algorithm: 0.017572 seconds\n",
      "Execution time for Dijkstra's algorithm: 0.002485 seconds\n",
      "Execution time for Dijkstra's algorithm: 0.010701 seconds\n",
      "Execution time for Dijkstra's algorithm: 0.023369 seconds\n",
      "Execution time for Dijkstra's algorithm: 0.018191 seconds\n",
      "Execution time for Dijkstra's algorithm: 0.017417 seconds\n",
      "Execution time for Dijkstra's algorithm: 0.008004 seconds\n",
      "Execution time for Dijkstra's algorithm: 0.007146 seconds\n",
      "Execution time for Dijkstra's algorithm: 0.016680 seconds\n",
      "Execution time for Dijkstra's algorithm: 0.008400 seconds\n",
      "Execution time for Dijkstra's algorithm: 0.012953 seconds\n",
      "Execution time for Dijkstra's algorithm: 0.027856 seconds\n",
      "Execution time for Dijkstra's algorithm: 0.005927 seconds\n",
      "Execution time for Dijkstra's algorithm: 0.026714 seconds\n",
      "Execution time for Dijkstra's algorithm: 0.003380 seconds\n",
      "Execution time for Dijkstra's algorithm: 0.001588 seconds\n",
      "Execution time for Dijkstra's algorithm: 0.011225 seconds\n",
      "Execution time for Dijkstra's algorithm: 0.022745 seconds\n",
      "Execution time for Dijkstra's algorithm: 0.003334 seconds\n",
      "Execution time for Dijkstra's algorithm: 0.005947 seconds\n",
      "Execution time for Dijkstra's algorithm: 0.017422 seconds\n",
      "Execution time for Dijkstra's algorithm: 0.012540 seconds\n",
      "Execution time for Dijkstra's algorithm: 0.021562 seconds\n",
      "Execution time for Dijkstra's algorithm: 0.010587 seconds\n",
      "Execution time for Dijkstra's algorithm: 0.009213 seconds\n",
      "Execution time for Dijkstra's algorithm: 0.002952 seconds\n",
      "Execution time for Dijkstra's algorithm: 0.011594 seconds\n",
      "Execution time for Dijkstra's algorithm: 0.007535 seconds\n",
      "Execution time for Dijkstra's algorithm: 0.017584 seconds\n",
      "Execution time for Dijkstra's algorithm: 0.010486 seconds\n",
      "Execution time for Dijkstra's algorithm: 0.003646 seconds\n",
      "Execution time for Dijkstra's algorithm: 0.026447 seconds\n",
      "Execution time for Dijkstra's algorithm: 0.015300 seconds\n",
      "Execution time for Dijkstra's algorithm: 0.016475 seconds\n",
      "Execution time for Dijkstra's algorithm: 0.004361 seconds\n",
      "Execution time for Dijkstra's algorithm: 0.009858 seconds\n",
      "Execution time for Dijkstra's algorithm: 0.005666 seconds\n",
      "Execution time for Dijkstra's algorithm: 0.044578 seconds\n",
      "Execution time for Dijkstra's algorithm: 0.008229 seconds\n",
      "Execution time for Dijkstra's algorithm: 0.018824 seconds\n",
      "Execution time for Dijkstra's algorithm: 0.017137 seconds\n",
      "Execution time for Dijkstra's algorithm: 0.000574 seconds\n",
      "Execution time for Dijkstra's algorithm: 0.018530 seconds\n",
      "Execution time for Dijkstra's algorithm: 0.006079 seconds\n",
      "Execution time for Dijkstra's algorithm: 0.001940 seconds\n",
      "Execution time for Dijkstra's algorithm: 0.011322 seconds\n",
      "Execution time for Dijkstra's algorithm: 0.004907 seconds\n",
      "Execution time for Dijkstra's algorithm: 0.010705 seconds\n",
      "Execution time for Dijkstra's algorithm: 0.002313 seconds\n",
      "Execution time for Dijkstra's algorithm: 0.009523 seconds\n",
      "Execution time for Dijkstra's algorithm: 0.013281 seconds\n",
      "Execution time for Dijkstra's algorithm: 0.006559 seconds\n",
      "Execution time for Dijkstra's algorithm: 0.022799 seconds\n",
      "Execution time for Dijkstra's algorithm: 0.016155 seconds\n",
      "Execution time for Dijkstra's algorithm: 0.007542 seconds\n",
      "Execution time for Dijkstra's algorithm: 0.001994 seconds\n",
      "Execution time for Dijkstra's algorithm: 0.013937 seconds\n",
      "Execution time for Dijkstra's algorithm: 0.015310 seconds\n",
      "Execution time for Dijkstra's algorithm: 0.021259 seconds\n",
      "Execution time for Dijkstra's algorithm: 0.016370 seconds\n",
      "Execution time for Dijkstra's algorithm: 0.008562 seconds\n",
      "Execution time for Dijkstra's algorithm: 0.000854 seconds\n",
      "Execution time for Dijkstra's algorithm: 0.009478 seconds\n",
      "Execution time for Dijkstra's algorithm: 0.009045 seconds\n",
      "Execution time for Dijkstra's algorithm: 0.004561 seconds\n",
      "Execution time for Dijkstra's algorithm: 0.003132 seconds\n",
      "Execution time for Dijkstra's algorithm: 0.005676 seconds\n",
      "Execution time for Dijkstra's algorithm: 0.004319 seconds\n",
      "Execution time for Dijkstra's algorithm: 0.001608 seconds\n",
      "Execution time for Dijkstra's algorithm: 0.026637 seconds\n",
      "Execution time for Dijkstra's algorithm: 0.025803 seconds\n",
      "Execution time for Dijkstra's algorithm: 0.026452 seconds\n",
      "Execution time for Dijkstra's algorithm: 0.003549 seconds\n",
      "Execution time for Dijkstra's algorithm: 0.023576 seconds\n",
      "Execution time for Dijkstra's algorithm: 0.016780 seconds\n",
      "Execution time for Dijkstra's algorithm: 0.002224 seconds\n",
      "Execution time for Dijkstra's algorithm: 0.014043 seconds\n",
      "Execution time for Dijkstra's algorithm: 0.013224 seconds\n",
      "Execution time for Dijkstra's algorithm: 0.021990 seconds\n",
      "Execution time for Dijkstra's algorithm: 0.024752 seconds\n",
      "Execution time for Dijkstra's algorithm: 0.001268 seconds\n",
      "Execution time for Dijkstra's algorithm: 0.005467 seconds\n",
      "Execution time for Dijkstra's algorithm: 0.015501 seconds\n"
     ]
    }
   ]
  },
  {
   "cell_type": "code",
   "source": [
    "#start_node = random.randint(0, num_nodes - 1)\n",
    "#goal_node = random.randint(0, num_nodes - 1)\n",
    "start_node = 1\n",
    "end_node = 20\n",
    "cProfile.run('dijkstra(graph, start_node, goal_node)')"
   ],
   "metadata": {
    "colab": {
     "base_uri": "https://localhost:8080/"
    },
    "id": "2f1GQffpv-Kk",
    "executionInfo": {
     "status": "ok",
     "timestamp": 1717882510013,
     "user_tz": 420,
     "elapsed": 3,
     "user": {
      "displayName": "Laurence Moroney",
      "userId": "17858265307580721507"
     }
    },
    "outputId": "d46fe44b-a089-4276-c2cd-4fb7d04f5b5d",
    "ExecuteTime": {
     "end_time": "2025-01-07T09:35:52.927023Z",
     "start_time": "2025-01-07T09:35:52.872518Z"
    }
   },
   "execution_count": 18,
   "outputs": [
    {
     "name": "stdout",
     "output_type": "stream",
     "text": [
      "         4067 function calls in 0.051 seconds\n",
      "\n",
      "   Ordered by: standard name\n",
      "\n",
      "   ncalls  tottime  percall  cumtime  percall filename:lineno(function)\n",
      "        1    0.000    0.000    0.000    0.000 629598647.py:10(<dictcomp>)\n",
      "        1    0.000    0.000    0.000    0.000 629598647.py:12(<dictcomp>)\n",
      "        1    0.049    0.049    0.051    0.051 629598647.py:8(dijkstra)\n",
      "        1    0.000    0.000    0.051    0.051 <string>:1(<module>)\n",
      "     1339    0.001    0.000    0.001    0.000 {built-in method _heapq.heappop}\n",
      "     2718    0.000    0.000    0.000    0.000 {built-in method _heapq.heappush}\n",
      "        1    0.000    0.000    0.051    0.051 {built-in method builtins.exec}\n",
      "        3    0.000    0.000    0.000    0.000 {method 'append' of 'list' objects}\n",
      "        1    0.000    0.000    0.000    0.000 {method 'disable' of '_lsprof.Profiler' objects}\n",
      "        1    0.000    0.000    0.000    0.000 {method 'reverse' of 'list' objects}\n"
     ]
    }
   ]
  },
  {
   "cell_type": "code",
   "source": [
    "# Implement Dijkstra's algorithm\n",
    "def faster_dijkstra(graph, start, goal):\n",
    "    queue = [(0, start)]\n",
    "    distances = {node: float('inf') for node in graph}\n",
    "    distances[start] = 0\n",
    "    previous_nodes = {node: None for node in graph}\n",
    "    visited = set()\n",
    "\n",
    "    while queue:\n",
    "        current_distance, current_node = heapq.heappop(queue)\n",
    "\n",
    "        if current_node in visited:\n",
    "            continue\n",
    "        visited.add(current_node)\n",
    "\n",
    "        if current_node == goal:\n",
    "            break\n",
    "\n",
    "        for neighbor, weight in graph[current_node]:\n",
    "            if neighbor in visited:\n",
    "                continue\n",
    "            distance = current_distance + weight\n",
    "            if distance < distances[neighbor]:\n",
    "                distances[neighbor] = distance\n",
    "                previous_nodes[neighbor] = current_node\n",
    "                heapq.heappush(queue, (distance, neighbor))\n",
    "\n",
    "    path = []\n",
    "    current = goal\n",
    "    while current is not None:\n",
    "        path.append(current)\n",
    "        current = previous_nodes[current]\n",
    "    path.reverse()\n",
    "\n",
    "    if distances[goal] == float('inf'):\n",
    "        return [], float('inf')  # If there's no path to the goal\n",
    "\n",
    "    return path, distances[goal]"
   ],
   "metadata": {
    "id": "ZSXnk80ZwDjn",
    "executionInfo": {
     "status": "ok",
     "timestamp": 1717882430206,
     "user_tz": 420,
     "elapsed": 205,
     "user": {
      "displayName": "Laurence Moroney",
      "userId": "17858265307580721507"
     }
    },
    "ExecuteTime": {
     "end_time": "2025-01-07T09:36:00.385124Z",
     "start_time": "2025-01-07T09:36:00.379568Z"
    }
   },
   "execution_count": 19,
   "outputs": []
  },
  {
   "cell_type": "code",
   "source": [
    "start_node = 1\n",
    "goal_node = 200\n",
    "cProfile.run('dijkstra(graph, start_node, goal_node)')"
   ],
   "metadata": {
    "colab": {
     "base_uri": "https://localhost:8080/"
    },
    "id": "aUMrBpEAxb_c",
    "executionInfo": {
     "status": "ok",
     "timestamp": 1717882514583,
     "user_tz": 420,
     "elapsed": 218,
     "user": {
      "displayName": "Laurence Moroney",
      "userId": "17858265307580721507"
     }
    },
    "outputId": "8e8d0356-01fd-4c2a-a06e-b5e322059361",
    "ExecuteTime": {
     "end_time": "2025-01-07T09:36:01.309249Z",
     "start_time": "2025-01-07T09:36:01.284956Z"
    }
   },
   "execution_count": 20,
   "outputs": [
    {
     "name": "stdout",
     "output_type": "stream",
     "text": [
      "         2971 function calls in 0.019 seconds\n",
      "\n",
      "   Ordered by: standard name\n",
      "\n",
      "   ncalls  tottime  percall  cumtime  percall filename:lineno(function)\n",
      "        1    0.000    0.000    0.000    0.000 629598647.py:10(<dictcomp>)\n",
      "        1    0.000    0.000    0.000    0.000 629598647.py:12(<dictcomp>)\n",
      "        1    0.018    0.018    0.019    0.019 629598647.py:8(dijkstra)\n",
      "        1    0.000    0.000    0.019    0.019 <string>:1(<module>)\n",
      "      243    0.000    0.000    0.000    0.000 {built-in method _heapq.heappop}\n",
      "     2718    0.001    0.000    0.001    0.000 {built-in method _heapq.heappush}\n",
      "        1    0.000    0.000    0.019    0.019 {built-in method builtins.exec}\n",
      "        3    0.000    0.000    0.000    0.000 {method 'append' of 'list' objects}\n",
      "        1    0.000    0.000    0.000    0.000 {method 'disable' of '_lsprof.Profiler' objects}\n",
      "        1    0.000    0.000    0.000    0.000 {method 'reverse' of 'list' objects}\n",
      "\n"
     ]
    }
   ]
  },
  {
   "cell_type": "code",
   "outputs": [],
   "source": [],
   "metadata": {
    "collapsed": false
   }
  }
 ]
}
