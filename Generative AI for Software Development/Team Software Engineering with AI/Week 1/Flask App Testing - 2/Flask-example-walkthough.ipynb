{
 "nbformat": 4,
 "nbformat_minor": 0,
 "metadata": {
  "colab": {
   "provenance": []
  },
  "kernelspec": {
   "name": "python3",
   "language": "python",
   "display_name": "Python 3 (ipykernel)"
  },
  "language_info": {
   "name": "python"
  }
 },
 "cells": [
  {
   "cell_type": "code",
   "source": [
    "!pip install flask_marshmallow flask_sqlalchemy\n",
    "!pip install marshmallow marshmallow-sqlalchemy"
   ],
   "metadata": {
    "colab": {
     "base_uri": "https://localhost:8080/"
    },
    "id": "D1y5egQUYnK8",
    "executionInfo": {
     "status": "ok",
     "timestamp": 1721419658381,
     "user_tz": 180,
     "elapsed": 14108,
     "user": {
      "displayName": "Lucas Coutinho",
      "userId": "17134509355433454861"
     }
    },
    "outputId": "65db0502-611b-4c1c-8620-57a18f797ab1",
    "ExecuteTime": {
     "end_time": "2025-01-07T12:48:01.026688Z",
     "start_time": "2025-01-07T12:47:47.249747Z"
    }
   },
   "execution_count": 1,
   "outputs": [
    {
     "name": "stdout",
     "output_type": "stream",
     "text": [
      "Collecting flask_marshmallow\n",
      "  Obtaining dependency information for flask_marshmallow from https://files.pythonhosted.org/packages/27/cd/5b3d4103460766eb834f6deaf26a87a4735a0c9687f24163e07d1f3d7791/flask_marshmallow-1.3.0-py3-none-any.whl.metadata\n",
      "  Downloading flask_marshmallow-1.3.0-py3-none-any.whl.metadata (5.2 kB)\n",
      "Requirement already satisfied: flask_sqlalchemy in c:\\users\\bayram\\appdata\\local\\programs\\python\\python311\\lib\\site-packages (3.1.1)\n",
      "Requirement already satisfied: Flask>=2.2 in c:\\users\\bayram\\appdata\\local\\programs\\python\\python311\\lib\\site-packages (from flask_marshmallow) (3.0.2)\n",
      "Requirement already satisfied: marshmallow>=3.0.0 in c:\\users\\bayram\\appdata\\local\\programs\\python\\python311\\lib\\site-packages (from flask_marshmallow) (3.23.2)\n",
      "Requirement already satisfied: sqlalchemy>=2.0.16 in c:\\users\\bayram\\appdata\\local\\programs\\python\\python311\\lib\\site-packages (from flask_sqlalchemy) (2.0.36)\n",
      "Requirement already satisfied: Werkzeug>=3.0.0 in c:\\users\\bayram\\appdata\\local\\programs\\python\\python311\\lib\\site-packages (from Flask>=2.2->flask_marshmallow) (3.0.1)\n",
      "Requirement already satisfied: Jinja2>=3.1.2 in c:\\users\\bayram\\appdata\\local\\programs\\python\\python311\\lib\\site-packages (from Flask>=2.2->flask_marshmallow) (3.1.5)\n",
      "Requirement already satisfied: itsdangerous>=2.1.2 in c:\\users\\bayram\\appdata\\local\\programs\\python\\python311\\lib\\site-packages (from Flask>=2.2->flask_marshmallow) (2.1.2)\n",
      "Requirement already satisfied: click>=8.1.3 in c:\\users\\bayram\\appdata\\local\\programs\\python\\python311\\lib\\site-packages (from Flask>=2.2->flask_marshmallow) (8.1.7)\n",
      "Requirement already satisfied: blinker>=1.6.2 in c:\\users\\bayram\\appdata\\local\\programs\\python\\python311\\lib\\site-packages (from Flask>=2.2->flask_marshmallow) (1.7.0)\n",
      "Requirement already satisfied: packaging>=17.0 in c:\\users\\bayram\\appdata\\roaming\\python\\python311\\site-packages (from marshmallow>=3.0.0->flask_marshmallow) (23.2)\n",
      "Requirement already satisfied: typing-extensions>=4.6.0 in c:\\users\\bayram\\appdata\\local\\programs\\python\\python311\\lib\\site-packages (from sqlalchemy>=2.0.16->flask_sqlalchemy) (4.12.2)\n",
      "Requirement already satisfied: greenlet!=0.4.17 in c:\\users\\bayram\\appdata\\local\\programs\\python\\python311\\lib\\site-packages (from sqlalchemy>=2.0.16->flask_sqlalchemy) (3.0.1)\n",
      "Requirement already satisfied: colorama in c:\\users\\bayram\\appdata\\roaming\\python\\python311\\site-packages (from click>=8.1.3->Flask>=2.2->flask_marshmallow) (0.4.6)\n",
      "Requirement already satisfied: MarkupSafe>=2.0 in c:\\users\\bayram\\appdata\\local\\programs\\python\\python311\\lib\\site-packages (from Jinja2>=3.1.2->Flask>=2.2->flask_marshmallow) (2.1.4)\n",
      "Downloading flask_marshmallow-1.3.0-py3-none-any.whl (12 kB)\n",
      "Installing collected packages: flask_marshmallow\n",
      "Successfully installed flask_marshmallow-1.3.0\n"
     ]
    },
    {
     "name": "stderr",
     "output_type": "stream",
     "text": [
      "\n",
      "[notice] A new release of pip is available: 23.2.1 -> 24.3.1\n",
      "[notice] To update, run: C:\\Users\\bayram\\AppData\\Local\\Programs\\Python\\Python311\\python.exe -m pip install --upgrade pip\n"
     ]
    },
    {
     "name": "stdout",
     "output_type": "stream",
     "text": [
      "Requirement already satisfied: marshmallow in c:\\users\\bayram\\appdata\\local\\programs\\python\\python311\\lib\\site-packages (3.23.2)\n",
      "Collecting marshmallow-sqlalchemy\n",
      "  Obtaining dependency information for marshmallow-sqlalchemy from https://files.pythonhosted.org/packages/e4/e4/6cef9deaff67726be477795e85eaadadc3c5e6e661059adfdc8967d04fe2/marshmallow_sqlalchemy-1.1.1-py3-none-any.whl.metadata\n",
      "  Downloading marshmallow_sqlalchemy-1.1.1-py3-none-any.whl.metadata (6.4 kB)\n",
      "Requirement already satisfied: packaging>=17.0 in c:\\users\\bayram\\appdata\\roaming\\python\\python311\\site-packages (from marshmallow) (23.2)\n",
      "Requirement already satisfied: SQLAlchemy<3.0,>=1.4.40 in c:\\users\\bayram\\appdata\\local\\programs\\python\\python311\\lib\\site-packages (from marshmallow-sqlalchemy) (2.0.36)\n",
      "Requirement already satisfied: typing-extensions>=4.6.0 in c:\\users\\bayram\\appdata\\local\\programs\\python\\python311\\lib\\site-packages (from SQLAlchemy<3.0,>=1.4.40->marshmallow-sqlalchemy) (4.12.2)\n",
      "Requirement already satisfied: greenlet!=0.4.17 in c:\\users\\bayram\\appdata\\local\\programs\\python\\python311\\lib\\site-packages (from SQLAlchemy<3.0,>=1.4.40->marshmallow-sqlalchemy) (3.0.1)\n",
      "Downloading marshmallow_sqlalchemy-1.1.1-py3-none-any.whl (14 kB)\n",
      "Installing collected packages: marshmallow-sqlalchemy\n",
      "Successfully installed marshmallow-sqlalchemy-1.1.1\n"
     ]
    },
    {
     "name": "stderr",
     "output_type": "stream",
     "text": [
      "\n",
      "[notice] A new release of pip is available: 23.2.1 -> 24.3.1\n",
      "[notice] To update, run: C:\\Users\\bayram\\AppData\\Local\\Programs\\Python\\Python311\\python.exe -m pip install --upgrade pip\n"
     ]
    }
   ]
  },
  {
   "cell_type": "code",
   "source": [
    "from flask import Flask, request, jsonify\n",
    "from flask_sqlalchemy import SQLAlchemy\n",
    "from marshmallow import Schema, fields, validate, ValidationError\n",
    "from werkzeug.security import generate_password_hash, check_password_hash\n",
    "import threading\n",
    "\n",
    "app = Flask(__name__)\n",
    "app.config['SQLALCHEMY_DATABASE_URI'] = 'sqlite:///users.db'\n",
    "app.config['SQLALCHEMY_TRACK_MODIFICATIONS'] = False\n",
    "db = SQLAlchemy(app)\n",
    "\n",
    "class User(db.Model):\n",
    "    id = db.Column(db.Integer, primary_key=True)\n",
    "    username = db.Column(db.String(80), unique=True, nullable=False)\n",
    "    password = db.Column(db.String(120), nullable=False)\n",
    "\n",
    "class UserSchema(Schema):\n",
    "    id = fields.Int(dump_only=True)\n",
    "    username = fields.Str(required=True, validate=validate.Length(min=1, max=80))\n",
    "    password = fields.Str(required=True, validate=validate.Length(min=6))\n",
    "\n",
    "user_schema = UserSchema()\n",
    "users_schema = UserSchema(many=True)\n",
    "\n",
    "with app.app_context():\n",
    "    db.create_all()\n",
    "\n",
    "@app.route('/')\n",
    "def home():\n",
    "    return \"Welcome to the Security Testing Demo!\"\n",
    "\n",
    "@app.route('/users', methods=['GET'])\n",
    "def get_users():\n",
    "    try:\n",
    "        users = User.query.all()\n",
    "        result =  users_schema.dump(users)\n",
    "        return jsonify(result)\n",
    "    except Exception as e:\n",
    "        return jsonify({\"message\": \"An error occurred while fetching users\", \"error\": str(e)}), 500\n",
    "\n",
    "\n",
    "@app.route('/user/<int:id>', methods=['GET'])\n",
    "def get_user(id):\n",
    "    user = User.query.get(id)\n",
    "    if user:\n",
    "      result = user_schema.dump(user)\n",
    "      return jsonify(result)\n",
    "    return jsonify({\"message\": \"User not found\"}), 404\n",
    "\n",
    "@app.route('/user', methods=['POST'])\n",
    "def add_user():\n",
    "    data = request.get_json()\n",
    "    errors = user_schema.validate(data)\n",
    "    if errors:\n",
    "        return jsonify(errors), 400\n",
    "\n",
    "    hashed_password = generate_password_hash(data['password'])\n",
    "    new_user = User(username=data['username'], password=hashed_password)\n",
    "    db.session.add(new_user)\n",
    "    db.session.commit()\n",
    "    return jsonify({\"message\": \"User added successfully\"}), 201\n",
    "\n",
    "@app.route('/user/<int:id>', methods=['PUT'])\n",
    "def update_user(id):\n",
    "    data = request.get_json()\n",
    "    errors = user_schema.validate(data)\n",
    "    if errors:\n",
    "        return jsonify(errors), 400\n",
    "\n",
    "    user = User.query.get(id)\n",
    "    if user:\n",
    "        user.username = data['username']\n",
    "        user.password = generate_password_hash(data['password'])\n",
    "        db.session.commit()\n",
    "        return jsonify({\"message\": \"User updated successfully\"})\n",
    "    return jsonify({\"message\": \"User not found\"}), 404\n",
    "\n",
    "@app.route('/user/<int:id>', methods=['DELETE'])\n",
    "def delete_user(id):\n",
    "    user = User.query.get(id)\n",
    "    if user:\n",
    "        db.session.delete(user)\n",
    "        db.session.commit()\n",
    "        return jsonify({\"message\": \"User deleted successfully\"})\n",
    "    return jsonify({\"message\": \"User not found\"}), 404\n",
    "\n",
    "threading.Thread(target=app.run, kwargs={'host':'0.0.0.0','port':5000}).start()\n"
   ],
   "metadata": {
    "colab": {
     "base_uri": "https://localhost:8080/"
    },
    "id": "ymuWi9V1YeWl",
    "executionInfo": {
     "status": "ok",
     "timestamp": 1717910438171,
     "user_tz": 420,
     "elapsed": 2183,
     "user": {
      "displayName": "Laurence Moroney",
      "userId": "17858265307580721507"
     }
    },
    "outputId": "56653516-0eae-4a1a-bcd3-c94e7ee9f80a",
    "ExecuteTime": {
     "end_time": "2025-01-07T12:53:58.529508Z",
     "start_time": "2025-01-07T12:53:58.510793Z"
    }
   },
   "execution_count": 20,
   "outputs": [
    {
     "name": "stdout",
     "output_type": "stream",
     "text": [
      " * Serving Flask app '__main__'\n"
     ]
    }
   ]
  },
  {
   "cell_type": "code",
   "source": [
    "!curl -X POST http://127.0.0.1:5000/user -H \"Content-Type: application/json\" -d '{\"username\":\"testuser\",\"password\":\"securepassword\"}'"
   ],
   "metadata": {
    "colab": {
     "base_uri": "https://localhost:8080/"
    },
    "id": "-IrfEuAVaUZB",
    "executionInfo": {
     "status": "ok",
     "timestamp": 1721419586018,
     "user_tz": 180,
     "elapsed": 437,
     "user": {
      "displayName": "Lucas Coutinho",
      "userId": "17134509355433454861"
     }
    },
    "outputId": "59ce26fa-afb3-4204-d645-998b38757814",
    "ExecuteTime": {
     "end_time": "2025-01-07T12:54:01.820054Z",
     "start_time": "2025-01-07T12:54:01.769755Z"
    }
   },
   "execution_count": 21,
   "outputs": [
    {
     "name": "stdout",
     "output_type": "stream",
     "text": [
      "<!doctype html>\n",
      "<html lang=en>\n",
      "<title>400 Bad Request</title>\n",
      "<h1>Bad Request</h1>\n",
      "<p>The browser (or proxy) sent a request that this server could not understand.</p>\n"
     ]
    },
    {
     "name": "stderr",
     "output_type": "stream",
     "text": [
      "  % Total    % Received % Xferd  Average Speed   Time    Time     Time  Current\n",
      "                                 Dload  Upload   Total   Spent    Left  Speed\n",
      "\n",
      "  0     0    0     0    0     0      0      0 --:--:-- --:--:-- --:--:--     0\n",
      "100   212  100   167  100    45  17056   4596 --:--:-- --:--:-- --:--:-- 23555\n"
     ]
    }
   ]
  },
  {
   "cell_type": "code",
   "source": [
    "!curl -X GET http://127.0.0.1:5000/users"
   ],
   "metadata": {
    "colab": {
     "base_uri": "https://localhost:8080/"
    },
    "id": "Y6lIaLPGZsKd",
    "executionInfo": {
     "status": "ok",
     "timestamp": 1721419631356,
     "user_tz": 180,
     "elapsed": 508,
     "user": {
      "displayName": "Lucas Coutinho",
      "userId": "17134509355433454861"
     }
    },
    "outputId": "27d9d12e-d1fa-4241-c39e-21c4bd7b053a",
    "ExecuteTime": {
     "end_time": "2025-01-07T12:54:03.599090Z",
     "start_time": "2025-01-07T12:54:03.555831Z"
    }
   },
   "execution_count": 22,
   "outputs": [
    {
     "name": "stdout",
     "output_type": "stream",
     "text": [
      "[]\n"
     ]
    },
    {
     "name": "stderr",
     "output_type": "stream",
     "text": [
      "  % Total    % Received % Xferd  Average Speed   Time    Time     Time  Current\n",
      "                                 Dload  Upload   Total   Spent    Left  Speed\n",
      "\n",
      "  0     0    0     0    0     0      0      0 --:--:-- --:--:-- --:--:--     0\n",
      "100     3  100     3    0     0    392      0 --:--:-- --:--:-- --:--:--   428\n"
     ]
    }
   ]
  },
  {
   "cell_type": "code",
   "source": [
    "!curl -X GET http://localhost:5000/user/1"
   ],
   "metadata": {
    "colab": {
     "base_uri": "https://localhost:8080/"
    },
    "id": "hL1oZyHEcZWI",
    "executionInfo": {
     "status": "ok",
     "timestamp": 1721419635035,
     "user_tz": 180,
     "elapsed": 420,
     "user": {
      "displayName": "Lucas Coutinho",
      "userId": "17134509355433454861"
     }
    },
    "outputId": "f1fa06a3-9af1-444d-f7a3-442c6cbd22ef",
    "ExecuteTime": {
     "end_time": "2025-01-07T12:54:07.285536Z",
     "start_time": "2025-01-07T12:54:07.024755Z"
    }
   },
   "execution_count": 23,
   "outputs": [
    {
     "name": "stdout",
     "output_type": "stream",
     "text": [
      "{\"message\":\"User not found\"}\n"
     ]
    },
    {
     "name": "stderr",
     "output_type": "stream",
     "text": [
      "  % Total    % Received % Xferd  Average Speed   Time    Time     Time  Current\n",
      "                                 Dload  Upload   Total   Spent    Left  Speed\n",
      "\n",
      "  0     0    0     0    0     0      0      0 --:--:-- --:--:-- --:--:--     0\n",
      "100    29  100    29    0     0    132      0 --:--:-- --:--:-- --:--:--   133\n"
     ]
    }
   ]
  },
  {
   "cell_type": "code",
   "source": [
    "!curl -X PUT http://localhost:5000/user/1 -H \"Content-Type: application/json\" -d '{\"username\":\"testuser\",\"password\":\"newsecurepassword\"}'"
   ],
   "metadata": {
    "colab": {
     "base_uri": "https://localhost:8080/"
    },
    "id": "1E36Bkkhcex3",
    "executionInfo": {
     "status": "ok",
     "timestamp": 1721419637704,
     "user_tz": 180,
     "elapsed": 515,
     "user": {
      "displayName": "Lucas Coutinho",
      "userId": "17134509355433454861"
     }
    },
    "outputId": "5272994f-8bf4-4f0a-cc7e-a7161bc4614a",
    "ExecuteTime": {
     "end_time": "2025-01-07T12:50:50.761839Z",
     "start_time": "2025-01-07T12:50:50.699901Z"
    }
   },
   "execution_count": 18,
   "outputs": [
    {
     "name": "stdout",
     "output_type": "stream",
     "text": [
      "<!doctype html>\n",
      "<html lang=en>\n",
      "<title>400 Bad Request</title>\n",
      "<h1>Bad Request</h1>\n",
      "<p>The browser (or proxy) sent a request that this server could not understand.</p>\n"
     ]
    },
    {
     "name": "stderr",
     "output_type": "stream",
     "text": [
      "  % Total    % Received % Xferd  Average Speed   Time    Time     Time  Current\n",
      "                                 Dload  Upload   Total   Spent    Left  Speed\n",
      "\n",
      "  0     0    0     0    0     0      0      0 --:--:-- --:--:-- --:--:--     0\n",
      "100   215  100   167  100    48   7141   2052 --:--:-- --:--:-- --:--:--  9347\n"
     ]
    }
   ]
  },
  {
   "cell_type": "code",
   "source": [
    "!curl -X DELETE http://localhost:5000/user/1"
   ],
   "metadata": {
    "id": "SPpuCe9sct_J",
    "executionInfo": {
     "status": "ok",
     "timestamp": 1721419640477,
     "user_tz": 180,
     "elapsed": 550,
     "user": {
      "displayName": "Lucas Coutinho",
      "userId": "17134509355433454861"
     }
    },
    "outputId": "9c4d3f33-091f-4427-b829-8850f7f44567",
    "colab": {
     "base_uri": "https://localhost:8080/"
    },
    "ExecuteTime": {
     "end_time": "2025-01-07T12:50:54.217184Z",
     "start_time": "2025-01-07T12:50:53.962341Z"
    }
   },
   "execution_count": 19,
   "outputs": [
    {
     "name": "stdout",
     "output_type": "stream",
     "text": [
      "{\"message\":\"User not found\"}\n"
     ]
    },
    {
     "name": "stderr",
     "output_type": "stream",
     "text": [
      "  % Total    % Received % Xferd  Average Speed   Time    Time     Time  Current\n",
      "                                 Dload  Upload   Total   Spent    Left  Speed\n",
      "\n",
      "  0     0    0     0    0     0      0      0 --:--:-- --:--:-- --:--:--     0\n",
      "100    29  100    29    0     0    135      0 --:--:-- --:--:-- --:--:--   135\n"
     ]
    }
   ]
  },
  {
   "cell_type": "code",
   "source": [],
   "metadata": {
    "id": "p_l7j3_MmyoH"
   },
   "execution_count": null,
   "outputs": []
  }
 ]
}
